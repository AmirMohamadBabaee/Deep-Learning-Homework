{
  "cells": [
    {
      "cell_type": "markdown",
      "metadata": {
        "id": "DHvhhpBU-QtI"
      },
      "source": [
        "# Homework 3 Part 2\n",
        "\n",
        "## Course Name: Deep Learning\n",
        "#### Lecturers: Dr. Beigy\n",
        "\n",
        "---\n",
        "\n",
        "#### Notebooks Supervised By: Zeinab Sadat Taghavi\n",
        "#### Notebooks Prepared By: Zahra Khoramnejad, Mehran Sarmadi, Zahra Rahimi\n",
        "\n",
        "**Contact**: Ask your questions in Quera\n",
        "\n",
        "---\n",
        "\n",
        "### Instructions:\n",
        "- Complete all exercises presented in this notebook.\n",
        "- Ensure you run each cell after you've entered your solution.\n",
        "- After completing the exercises, save the notebook and <font color='red'>follow the submission guidelines provided in the PDF.</font>\n",
        "\n",
        "\n",
        "---\n"
      ]
    },
    {
      "cell_type": "markdown",
      "metadata": {
        "id": "LG6yNYAmreI_"
      },
      "source": [
        "#Text Generation\n",
        "\n",
        "<p align='justify'>Text generation task involves generating new text based on a given input or a prompt. It is a natural language processing (NLP) task that aims to generate coherent and contextually relevant text.\n",
        "\n",
        "In text generation, a model is trained on a large corpus of text data and learns the patterns and structures of the language. This model can then be used to generate new text by sampling from the learned distribution of words or characters.\n",
        "\n",
        "Text generation has various applications, including chatbots, language translation, poetry generation, and content creation. It can be implemented using different techniques such as `recurrent neural networks (RNNs)`, `transformers`, and `Markov chains`.\n",
        "\n",
        "The goal of text generation is to produce text that is fluent, coherent, and contextually relevant. It requires a deep understanding of the language and the ability to generate text that follows grammatical rules and maintains semantic coherence.</p>"
      ]
    },
    {
      "cell_type": "markdown",
      "metadata": {
        "id": "-u6fGIqx0LIz"
      },
      "source": [
        "##Charachter-level text generation"
      ]
    },
    {
      "cell_type": "markdown",
      "metadata": {
        "id": "cKhboP-Y0TrV"
      },
      "source": [
        "One stage of the task of text generation is mapping, which can be at the word or character level. At this stage, a number is assigned to each word or character.\n",
        "\n",
        "In this exercise, we generate text at the character level. Because generating text at the word level, even though it leads to more meaningful outputs, requires a rich dataset with a high number of word repetitions."
      ]
    },
    {
      "cell_type": "markdown",
      "metadata": {
        "id": "00sNsfmXtW6K"
      },
      "source": [
        "We will implement models based on `recurrent networks` for text generation and compare the performance of different models. In the following, we will check the performance of the best models on different datasets and compare the results"
      ]
    },
    {
      "cell_type": "markdown",
      "metadata": {
        "id": "jw8uJvD8vTyM"
      },
      "source": [
        "The steps of this exercise are as follows:\n",
        "1. Train RNN and LSTM\n",
        "2. FineTuning\n",
        "3. Experiment on different datasets"
      ]
    },
    {
      "cell_type": "markdown",
      "metadata": {
        "id": "nb9egMrmAhXK"
      },
      "source": [
        "---\n",
        "---"
      ]
    },
    {
      "cell_type": "markdown",
      "metadata": {
        "id": "SBqL42w1vt1Q"
      },
      "source": [
        "#1. Train RNN and LSTM"
      ]
    },
    {
      "cell_type": "markdown",
      "metadata": {
        "id": "dP0JQJIj2rL0"
      },
      "source": [
        "## Imports"
      ]
    },
    {
      "cell_type": "code",
      "execution_count": 1,
      "metadata": {
        "colab": {
          "base_uri": "https://localhost:8080/"
        },
        "id": "x7cTJANKwpck",
        "outputId": "c9c4c1c7-0a05-442d-ac66-48224f432201"
      },
      "outputs": [
        {
          "output_type": "stream",
          "name": "stdout",
          "text": [
            "cuda\n"
          ]
        }
      ],
      "source": [
        "import torch\n",
        "import torch.nn as nn\n",
        "import torch.nn.functional as F\n",
        "from torch.distributions import Categorical\n",
        "\n",
        "import numpy as np\n",
        "import pandas as pd\n",
        "import random\n",
        "import re\n",
        "import string\n",
        "\n",
        "import matplotlib.pyplot as plt\n",
        "\n",
        "\n",
        "device = torch.device(\"cuda\" if torch.cuda.is_available() else \"cpu\")\n",
        "print(device)"
      ]
    },
    {
      "cell_type": "markdown",
      "metadata": {
        "id": "hJSsyWUyv8KC"
      },
      "source": [
        "## Load data"
      ]
    },
    {
      "cell_type": "markdown",
      "metadata": {
        "id": "oHGryhW7wbsZ"
      },
      "source": [
        "- We use the dataset of `Shakespeare's plays` as the main dataset for this exercise"
      ]
    },
    {
      "cell_type": "code",
      "execution_count": 2,
      "metadata": {
        "colab": {
          "base_uri": "https://localhost:8080/"
        },
        "id": "eUNd0YrFwW2E",
        "outputId": "0dccf369-b697-4772-b087-c76212145541"
      },
      "outputs": [
        {
          "output_type": "stream",
          "name": "stdout",
          "text": [
            "--2023-12-06 21:03:47--  https://raw.githubusercontent.com/karpathy/char-rnn/master/data/tinyshakespeare/input.txt\n",
            "Resolving raw.githubusercontent.com (raw.githubusercontent.com)... 185.199.108.133, 185.199.109.133, 185.199.110.133, ...\n",
            "Connecting to raw.githubusercontent.com (raw.githubusercontent.com)|185.199.108.133|:443... connected.\n",
            "HTTP request sent, awaiting response... 200 OK\n",
            "Length: 1115394 (1.1M) [text/plain]\n",
            "Saving to: ‘data/input.txt’\n",
            "\n",
            "input.txt           100%[===================>]   1.06M  --.-KB/s    in 0.05s   \n",
            "\n",
            "2023-12-06 21:03:47 (22.4 MB/s) - ‘data/input.txt’ saved [1115394/1115394]\n",
            "\n"
          ]
        }
      ],
      "source": [
        "!wget \"https://raw.githubusercontent.com/karpathy/char-rnn/master/data/tinyshakespeare/input.txt\" -c -P {'data/'}"
      ]
    },
    {
      "cell_type": "markdown",
      "metadata": {
        "id": "hYntrpS_Arse"
      },
      "source": [
        "- Load data in amout of 30kb for training models"
      ]
    },
    {
      "cell_type": "code",
      "execution_count": 3,
      "metadata": {
        "id": "xYsndtIoxd0Z"
      },
      "outputs": [],
      "source": [
        "sh_data_file = \"./data/input.txt\"\n",
        "sh_data = open(sh_data_file, 'r').read(30000)"
      ]
    },
    {
      "cell_type": "markdown",
      "metadata": {
        "id": "Pj-xesSRwI9S"
      },
      "source": [
        "##Charachter mapping"
      ]
    },
    {
      "cell_type": "markdown",
      "metadata": {
        "id": "Jl-LIH_Syl0M"
      },
      "source": [
        "- For better performance of the model, we limit the set of allowed characters"
      ]
    },
    {
      "cell_type": "code",
      "execution_count": 4,
      "metadata": {
        "id": "KLiOHN8sCSe2"
      },
      "outputs": [],
      "source": [
        "chars = list(string.ascii_lowercase + '\\n' + ' ' + ':' + '.')\n",
        "vocab_size = len(chars)"
      ]
    },
    {
      "cell_type": "code",
      "execution_count": 5,
      "metadata": {
        "id": "xvP9iW3FyT6g"
      },
      "outputs": [],
      "source": [
        "# Mapping of char-index\n",
        "char_to_ix = { ch:i for i,ch in enumerate(chars) }\n",
        "ix_to_char = { i:ch for i,ch in enumerate(chars) }"
      ]
    },
    {
      "cell_type": "markdown",
      "metadata": {
        "id": "nh8Fo1WnwC9T"
      },
      "source": [
        "##Preprocessing"
      ]
    },
    {
      "cell_type": "code",
      "execution_count": 6,
      "metadata": {
        "id": "vxGtjsgay0x9"
      },
      "outputs": [],
      "source": [
        "def remove_extraneous_characters(data, valid_char_list):\n",
        "    pattern = f\"[^{re.escape(''.join(valid_char_list))}]\"\n",
        "    return re.sub(pattern, '', data)"
      ]
    },
    {
      "cell_type": "code",
      "execution_count": 7,
      "metadata": {
        "id": "KscUSBpbyRNZ"
      },
      "outputs": [],
      "source": [
        "sh_data = remove_extraneous_characters(sh_data.lower(), chars)\n",
        "sh_data_size = len(sh_data)\n",
        "\n",
        "# Extract indexes of data characters\n",
        "sh_data = list(sh_data)\n",
        "for i, ch in enumerate(sh_data):\n",
        "    sh_data[i] = char_to_ix[ch]\n",
        "\n",
        "sh_data = torch.tensor(sh_data).to(device)\n",
        "sh_data = torch.unsqueeze(sh_data, dim=1)"
      ]
    },
    {
      "cell_type": "markdown",
      "metadata": {
        "id": "Df7TxCxOzueM"
      },
      "source": [
        "##Modeling"
      ]
    },
    {
      "cell_type": "markdown",
      "metadata": {
        "id": "Rsj67WalA4fY"
      },
      "source": [
        "- In this part define RNN and LSTM model, according to the mentioned characteristics and function inputs.\n"
      ]
    },
    {
      "cell_type": "markdown",
      "metadata": {
        "id": "kFj9nkzoz2Hs"
      },
      "source": [
        "###RNN"
      ]
    },
    {
      "cell_type": "code",
      "execution_count": 8,
      "metadata": {
        "id": "fgmKXfb1zuAJ"
      },
      "outputs": [],
      "source": [
        "class RNN(nn.Module):\n",
        "    def __init__(self, input_size, output_size, hidden_size=512, num_layers=3, dropout_enable=False):\n",
        "        super(RNN, self).__init__()\n",
        "        self.input_size = input_size\n",
        "        self.output_size = output_size\n",
        "        self.hidden_size = hidden_size\n",
        "        self.num_layers = num_layers\n",
        "        self.dropout_enable = dropout_enable\n",
        "        self.dropout = nn.Dropout(0.5)\n",
        "        self.hidden_state = None\n",
        "        ####################################\n",
        "        ######### Your code begins #########\n",
        "        ####################################\n",
        "        # Define self.rnn with model inputs\n",
        "        # Define self.decoder for decoding output character from last hidden state\n",
        "        # You can use torch.nn library\n",
        "\n",
        "        self.encoder = nn.Embedding(input_size, input_size)\n",
        "        self.rnn = nn.RNN(input_size, hidden_size, num_layers, batch_first=True)\n",
        "        self.decoder = nn.Linear(hidden_size, output_size)\n",
        "\n",
        "        ####################################\n",
        "        ######### Your code ends ###########\n",
        "        ####################################\n",
        "\n",
        "\n",
        "    def forward(self, input_seq, hidden_state=None):\n",
        "        ####################################\n",
        "        ######### Your code begins #########\n",
        "        ####################################\n",
        "        # Implement forward part of model and save last hidden state on self.hidden_state\n",
        "        # print(f'{input_seq.size()=}')\n",
        "        x_encoded = self.encoder(input_seq)\n",
        "        # print(f'{x_encoded.size()=}')\n",
        "        output, hn = self.rnn(x_encoded, hidden_state)\n",
        "        # print(f'{output.size()=}')\n",
        "        self.hidden_state = hn.detach()\n",
        "\n",
        "        if self.dropout_enable:\n",
        "            output = self.dropout(output)\n",
        "        output = self.decoder(output)\n",
        "\n",
        "        ####################################\n",
        "        ######### Your code ends ###########\n",
        "        ####################################\n",
        "\n",
        "        return output\n",
        "\n",
        "    def save_model(self, path):\n",
        "        torch.save(self.state_dict(), path)\n",
        "\n",
        "    def load_model(self, path):\n",
        "        self.load_state_dict(torch.load(path))"
      ]
    },
    {
      "cell_type": "markdown",
      "metadata": {
        "id": "xeoymmMx7RKR"
      },
      "source": [
        "###LSTM"
      ]
    },
    {
      "cell_type": "code",
      "execution_count": 9,
      "metadata": {
        "id": "4PQDAnxc7Q26"
      },
      "outputs": [],
      "source": [
        "class LSTM(nn.Module):\n",
        "    def __init__(self, input_size, output_size, hidden_size=512, num_layers=3, dropout_enable=False):\n",
        "        super(LSTM, self).__init__()\n",
        "        self.input_size = input_size\n",
        "        self.output_size = output_size\n",
        "        self.hidden_size = hidden_size\n",
        "        self.num_layers = num_layers\n",
        "        self.dropout_enable = dropout_enable\n",
        "        self.dropout = nn.Dropout(0.5)\n",
        "        self.hidden_state = None\n",
        "\n",
        "        ####################################\n",
        "        ######### Your code begins #########\n",
        "        ####################################\n",
        "        # Define self.lstm with model inputs\n",
        "        # Define self.decoder for decoding output character from last hidden state\n",
        "        # You can use torch.nn library\n",
        "\n",
        "        self.encoder = nn.Embedding(input_size, input_size)\n",
        "        self.lstm = nn.LSTM(input_size, hidden_size, num_layers, batch_first=True)\n",
        "        self.decoder = nn.Linear(hidden_size, output_size)\n",
        "\n",
        "        ####################################\n",
        "        ######### Your code ends ###########\n",
        "        ####################################\n",
        "\n",
        "    def forward(self, input_seq, hidden_state=None):\n",
        "        ####################################\n",
        "        ######### Your code begins #########\n",
        "        ####################################\n",
        "        # Implement forward part of model and save last hidden state on self.hidden_state\n",
        "        x_encoded = self.encoder(input_seq)\n",
        "        output, hn = self.lstm(x_encoded, hidden_state)\n",
        "        self.hidden_state = (hn[0].detach(), hn[1].detach())\n",
        "\n",
        "        if self.dropout_enable:\n",
        "            output = self.dropout(output)\n",
        "        output = self.decoder(output)\n",
        "\n",
        "        ####################################\n",
        "        ######### Your code ends ###########\n",
        "        ####################################\n",
        "\n",
        "        return output\n",
        "\n",
        "    def save_model(self, path):\n",
        "        torch.save(self.state_dict(), path)\n",
        "\n",
        "    def load_model(self, path):\n",
        "        self.load_state_dict(torch.load(path))"
      ]
    },
    {
      "cell_type": "markdown",
      "metadata": {
        "id": "Y9XQWqoXwM4N"
      },
      "source": [
        "##Training"
      ]
    },
    {
      "cell_type": "code",
      "execution_count": 10,
      "metadata": {
        "id": "ruPWrO7Z9JM2"
      },
      "outputs": [],
      "source": [
        "def print_sample_output(model, data, data_size, test_output_len = 200):\n",
        "    # Use this function to print sample that model generates from its current hidden state and random input character\n",
        "    # test_output_len is total num of characters in output test sequence\n",
        "\n",
        "    test_output = \"\"\n",
        "    data_ptr = 0\n",
        "\n",
        "    rand_index = np.random.randint(data_size-1)\n",
        "    input_seq = data[rand_index : rand_index+1]\n",
        "\n",
        "    model.hidden_state = None\n",
        "\n",
        "    while True:\n",
        "        output = model(input_seq, model.hidden_state)\n",
        "\n",
        "        output = F.softmax(torch.squeeze(output), dim=0)\n",
        "        dist = Categorical(output)\n",
        "        index = dist.sample().item()\n",
        "\n",
        "        test_output += ix_to_char[index]\n",
        "\n",
        "        input_seq[0][0] = index\n",
        "        data_ptr += 1\n",
        "\n",
        "        if data_ptr > test_output_len:\n",
        "            break\n",
        "\n",
        "    print(\"Train Sample +++++++++++++++++++++++++++++++++++++++++++++\")\n",
        "    print(test_output)\n",
        "    print(\"++++++++++++++++++++++++++++++++++++++++++++++++++++++++++\")"
      ]
    },
    {
      "cell_type": "markdown",
      "metadata": {
        "id": "WC337ho-XX-I"
      },
      "source": [
        "- For construction of each sample in the dataset, the output sequence is\n",
        "obtained from the shift of one character from the input sequence. For example, when sequence_length is 10 and our text is `Hello world`. The input sequence would be `Hello worl`, and the target sequence `ello world`."
      ]
    },
    {
      "cell_type": "code",
      "execution_count": 11,
      "metadata": {
        "id": "aPpDSsZU7vWu"
      },
      "outputs": [],
      "source": [
        "def train_epoch(model, data, data_size, epoch, optimizer, seq_len=200):\n",
        "    # seq_length is length of training data sequence\n",
        "    model.train()\n",
        "    model = model.to(device)\n",
        "    criterion = nn.CrossEntropyLoss()\n",
        "    total_loss = 0\n",
        "    sample_number = 0\n",
        "\n",
        "    ####################################\n",
        "    ######### Your code begins #########\n",
        "    ####################################\n",
        "    # Define training process for one epoch of input model\n",
        "    # At the end of every ten epochs, print current loss and a sample output of the model using print_sample_output function\n",
        "    # Feed all data sample to model by iterating over input data\n",
        "    model.hidden_state = None\n",
        "\n",
        "    for idx in range(seq_len, data_size - seq_len, 2*seq_len):\n",
        "        X_train = data[idx:idx+seq_len]\n",
        "        y_train = data[idx+1:idx+1+seq_len]\n",
        "\n",
        "        # Forward and loss\n",
        "        optimizer.zero_grad()\n",
        "        output = model(X_train, model.hidden_state)\n",
        "        train_loss = criterion(output.squeeze(), y_train.squeeze())\n",
        "        total_loss += train_loss.item()\n",
        "        sample_number += 1\n",
        "\n",
        "        # Backward and optimization\n",
        "        train_loss.backward()\n",
        "        optimizer.step()\n",
        "\n",
        "    if epoch % 10 == 9:\n",
        "        with torch.no_grad():\n",
        "            model.eval()\n",
        "            print(f'Loss [{epoch=}] = {total_loss / sample_number}')\n",
        "            print_sample_output(model, data, data_size)\n",
        "            model.hidden_state = None\n",
        "\n",
        "    ####################################\n",
        "    ######### Your code ends ###########\n",
        "    ####################################\n",
        "\n",
        "    return total_loss / sample_number"
      ]
    },
    {
      "cell_type": "code",
      "execution_count": 12,
      "metadata": {
        "id": "1NT_mZuMf4do"
      },
      "outputs": [],
      "source": [
        "def train_rnn(data, data_size, model_save_file):\n",
        "    # RNN parameters\n",
        "    hidden_size = 512\n",
        "    num_layers = 6\n",
        "    lr = 0.002\n",
        "    epoch_num = 100\n",
        "    losses = [np.inf]\n",
        "\n",
        "    ####################################\n",
        "    ######### Your code begins #########\n",
        "    ####################################\n",
        "    # Define training process in the specified number of epochs for RNN model\n",
        "    # Use train_epoch function for train the model for one epoch\n",
        "    # Use Adam as optimizer\n",
        "    # Save best model in model_save_file address for next usage\n",
        "    rnn_model = RNN(vocab_size, vocab_size, hidden_size, num_layers, dropout_enable=False)\n",
        "    print(rnn_model)\n",
        "    optimizer = torch.optim.Adam(rnn_model.parameters(), lr)\n",
        "\n",
        "    data = data.to(device)\n",
        "    # data_oh = F.one_hot(data.squeeze(), vocab_size).to(torch.float32)\n",
        "\n",
        "    # dataset = torch.utils.data.TensorDataset(*prepare_dataset(data_oh, look_back=200))\n",
        "    # dataloader = torch.utils.data.DataLoader(dataset, batch_size=1)\n",
        "\n",
        "    for epoch in range(epoch_num):\n",
        "        print(f'{epoch=}')\n",
        "        loss = train_epoch(rnn_model, data, data_size, epoch, optimizer, seq_len=200)\n",
        "        if loss < losses[-1]:\n",
        "            rnn_model.save_model(model_save_file)\n",
        "            print(f'current model with {loss=} saved at {model_save_file}')\n",
        "\n",
        "        losses.append(loss)\n",
        "\n",
        "    ####################################\n",
        "    ######### Your code ends ###########\n",
        "    ####################################\n",
        "\n",
        "    return losses"
      ]
    },
    {
      "cell_type": "code",
      "execution_count": 13,
      "metadata": {
        "id": "gd-wyFT4gerv"
      },
      "outputs": [],
      "source": [
        "def train_lstm(data, data_size, model_save_file):\n",
        "    # LSTM parameters\n",
        "    hidden_size = 512\n",
        "    num_layers = 3\n",
        "    lr = 0.002\n",
        "    epoch_num = 100\n",
        "    losses = [np.inf]\n",
        "\n",
        "    ####################################\n",
        "    ######### Your code begins #########\n",
        "    ####################################\n",
        "    # Define training process in the specified number of epochs for LSTM model\n",
        "    # Use train_epoch function for train the model for one epoch\n",
        "    # Use Adam as optimizer\n",
        "    # Save best model in model_save_file address for next usage\n",
        "    lstm_model = LSTM(vocab_size, vocab_size, hidden_size, num_layers, dropout_enable=False)\n",
        "    optimizer = torch.optim.Adam(lstm_model.parameters(), lr)\n",
        "\n",
        "    data = data.to(device)\n",
        "    # data_oh = F.one_hot(data.squeeze(), vocab_size).to(torch.float32)\n",
        "\n",
        "    # dataset = torch.utils.data.TensorDataset(*prepare_dataset(data_oh, look_back=200))\n",
        "    # dataloader = torch.utils.data.DataLoader(dataset, batch_size=1)\n",
        "\n",
        "    for epoch in range(epoch_num):\n",
        "        print(f'{epoch=}')\n",
        "        loss = train_epoch(lstm_model, data, data_size, epoch, optimizer, seq_len=200)\n",
        "        if loss < losses[-1]:\n",
        "            lstm_model.save_model(model_save_file)\n",
        "            print(f'current model with {loss=} saved at {model_save_file}')\n",
        "\n",
        "        losses.append(loss)\n",
        "\n",
        "    ####################################\n",
        "    ######### Your code ends ###########\n",
        "    ####################################\n",
        "\n",
        "    return losses"
      ]
    },
    {
      "cell_type": "markdown",
      "metadata": {
        "id": "KW4HTBwBEoHC"
      },
      "source": [
        "### RNN"
      ]
    },
    {
      "cell_type": "code",
      "execution_count": 14,
      "metadata": {
        "colab": {
          "base_uri": "https://localhost:8080/"
        },
        "id": "-mA-QGewD22i",
        "outputId": "75493d2f-6134-49fd-e016-5b5d18652f35"
      },
      "outputs": [
        {
          "output_type": "stream",
          "name": "stdout",
          "text": [
            "RNN(\n",
            "  (dropout): Dropout(p=0.5, inplace=False)\n",
            "  (encoder): Embedding(30, 30)\n",
            "  (rnn): RNN(30, 512, num_layers=6, batch_first=True)\n",
            "  (decoder): Linear(in_features=512, out_features=30, bias=True)\n",
            ")\n",
            "epoch=0\n",
            "current model with loss=2.8352030085192785 saved at ./model_sh_rnn.pth\n",
            "epoch=1\n",
            "current model with loss=2.660853925678465 saved at ./model_sh_rnn.pth\n",
            "epoch=2\n",
            "current model with loss=2.617702477508121 saved at ./model_sh_rnn.pth\n",
            "epoch=3\n",
            "current model with loss=2.59756773047977 saved at ./model_sh_rnn.pth\n",
            "epoch=4\n",
            "current model with loss=2.571855753660202 saved at ./model_sh_rnn.pth\n",
            "epoch=5\n",
            "current model with loss=2.5467909740077124 saved at ./model_sh_rnn.pth\n",
            "epoch=6\n",
            "current model with loss=2.5281242893801794 saved at ./model_sh_rnn.pth\n",
            "epoch=7\n",
            "current model with loss=2.5223184559080334 saved at ./model_sh_rnn.pth\n",
            "epoch=8\n",
            "current model with loss=2.5123447842068143 saved at ./model_sh_rnn.pth\n",
            "epoch=9\n",
            "Loss [epoch=9] = 2.498099704583486\n",
            "Train Sample +++++++++++++++++++++++++++++++++++++++++++++\n",
            " is ar areruss o f ifey sof tofileser meinithaneres mad ili t tro t thid bdisieerlitinous avevenofs.\n",
            "mese thirbr. yefowethk t hkiut o siis: af thurfae ss chelirous s\n",
            "yimadet thererore amowe urero hary \n",
            "++++++++++++++++++++++++++++++++++++++++++++++++++++++++++\n",
            "current model with loss=2.498099704583486 saved at ./model_sh_rnn.pth\n",
            "epoch=10\n",
            "current model with loss=2.484671311246024 saved at ./model_sh_rnn.pth\n",
            "epoch=11\n",
            "current model with loss=2.4725699755880566 saved at ./model_sh_rnn.pth\n",
            "epoch=12\n",
            "current model with loss=2.462332288424174 saved at ./model_sh_rnn.pth\n",
            "epoch=13\n",
            "current model with loss=2.45271353258027 saved at ./model_sh_rnn.pth\n",
            "epoch=14\n",
            "current model with loss=2.4378358953528934 saved at ./model_sh_rnn.pth\n",
            "epoch=15\n",
            "current model with loss=2.4248329831494226 saved at ./model_sh_rnn.pth\n",
            "epoch=16\n",
            "current model with loss=2.419968134827084 saved at ./model_sh_rnn.pth\n",
            "epoch=17\n",
            "current model with loss=2.407211641470591 saved at ./model_sh_rnn.pth\n",
            "epoch=18\n",
            "current model with loss=2.387348006169001 saved at ./model_sh_rnn.pth\n",
            "epoch=19\n",
            "Loss [epoch=19] = 2.3831848171022205\n",
            "Train Sample +++++++++++++++++++++++++++++++++++++++++++++\n",
            " te pe this:\n",
            "the h oriuiges:\n",
            "athous::\n",
            "\n",
            "\n",
            "\n",
            "ngir surthatr. omin ius:\n",
            "th.\n",
            "pa geyucherens iesm talarellynd shelus:\n",
            "ad sepopanga ados\n",
            "ty chetigoundigcblayomssther liurt te thean theeans: bak bdvis.\n",
            "ted thar \n",
            "++++++++++++++++++++++++++++++++++++++++++++++++++++++++++\n",
            "current model with loss=2.3831848171022205 saved at ./model_sh_rnn.pth\n",
            "epoch=20\n",
            "current model with loss=2.370649026499854 saved at ./model_sh_rnn.pth\n",
            "epoch=21\n",
            "current model with loss=2.366863032182058 saved at ./model_sh_rnn.pth\n",
            "epoch=22\n",
            "current model with loss=2.3551866677072315 saved at ./model_sh_rnn.pth\n",
            "epoch=23\n",
            "current model with loss=2.3350926604535847 saved at ./model_sh_rnn.pth\n",
            "epoch=24\n",
            "current model with loss=2.334799435403612 saved at ./model_sh_rnn.pth\n",
            "epoch=25\n",
            "current model with loss=2.3293947080771127 saved at ./model_sh_rnn.pth\n",
            "epoch=26\n",
            "current model with loss=2.312715662850274 saved at ./model_sh_rnn.pth\n",
            "epoch=27\n",
            "current model with loss=2.299125947886043 saved at ./model_sh_rnn.pth\n",
            "epoch=28\n",
            "epoch=29\n",
            "Loss [epoch=29] = 2.282990041706297\n",
            "Train Sample +++++++++++++++++++++++++++++++++++++++++++++\n",
            " mat e fomas:\n",
            "tel ss tolsmesolthe thetesollou t bsel iananeex chem hary tome ayen harot eigeved theen\n",
            "m thas mold br r allue the themearthomerchusure ad\n",
            "fbmunithlasevetrird mbe inothe\n",
            "r f thercghemey s\n",
            "++++++++++++++++++++++++++++++++++++++++++++++++++++++++++\n",
            "current model with loss=2.282990041706297 saved at ./model_sh_rnn.pth\n",
            "epoch=30\n",
            "current model with loss=2.2673443108797073 saved at ./model_sh_rnn.pth\n",
            "epoch=31\n",
            "current model with loss=2.2481847289535732 saved at ./model_sh_rnn.pth\n",
            "epoch=32\n",
            "current model with loss=2.2386317435238094 saved at ./model_sh_rnn.pth\n",
            "epoch=33\n",
            "current model with loss=2.223937796221839 saved at ./model_sh_rnn.pth\n",
            "epoch=34\n",
            "current model with loss=2.2045543409056134 saved at ./model_sh_rnn.pth\n",
            "epoch=35\n",
            "current model with loss=2.189296164446407 saved at ./model_sh_rnn.pth\n",
            "epoch=36\n",
            "current model with loss=2.1699582984050116 saved at ./model_sh_rnn.pth\n",
            "epoch=37\n",
            "current model with loss=2.164934174882041 saved at ./model_sh_rnn.pth\n",
            "epoch=38\n",
            "current model with loss=2.15168060362339 saved at ./model_sh_rnn.pth\n",
            "epoch=39\n",
            "Loss [epoch=39] = 2.1374511983659534\n",
            "Train Sample +++++++++++++++++++++++++++++++++++++++++++++\n",
            "argomamum oupr ai h iande thu da t br t stedd whenure ndelar\n",
            "\n",
            "thilius t che thefa i es thelupll alul buporthe is ifoofrsus has rwe bbt:\n",
            "bfibtout priapl lowafea o thelathinoulinouts mom\n",
            "ovalirde orvy be\n",
            "++++++++++++++++++++++++++++++++++++++++++++++++++++++++++\n",
            "current model with loss=2.1374511983659534 saved at ./model_sh_rnn.pth\n",
            "epoch=40\n",
            "current model with loss=2.1268373214536243 saved at ./model_sh_rnn.pth\n",
            "epoch=41\n",
            "current model with loss=2.114711339275042 saved at ./model_sh_rnn.pth\n",
            "epoch=42\n",
            "current model with loss=2.08397633002864 saved at ./model_sh_rnn.pth\n",
            "epoch=43\n",
            "current model with loss=2.0695427970753775 saved at ./model_sh_rnn.pth\n",
            "epoch=44\n",
            "current model with loss=2.0516132331556745 saved at ./model_sh_rnn.pth\n",
            "epoch=45\n",
            "current model with loss=2.035863048500485 saved at ./model_sh_rnn.pth\n",
            "epoch=46\n",
            "current model with loss=2.0049240903721914 saved at ./model_sh_rnn.pth\n",
            "epoch=47\n",
            "current model with loss=1.975260328915384 saved at ./model_sh_rnn.pth\n",
            "epoch=48\n",
            "current model with loss=1.9696572340197034 saved at ./model_sh_rnn.pth\n",
            "epoch=49\n",
            "Loss [epoch=49] = 1.9376034057802625\n",
            "Train Sample +++++++++++++++++++++++++++++++++++++++++++++\n",
            "stho\n",
            "lnce tdyes brs:\n",
            "aleand al\n",
            "fididfeni our pelndiu bus er an lyila he he ometheallitheme thes:\n",
            "yotouvartsthe iragaretowhene t hever n\n",
            "ato yowhombreiut rs che io nghe tusyo aid t b a s arf po martes f\n",
            "++++++++++++++++++++++++++++++++++++++++++++++++++++++++++\n",
            "current model with loss=1.9376034057802625 saved at ./model_sh_rnn.pth\n",
            "epoch=50\n",
            "epoch=51\n",
            "current model with loss=1.918004497885704 saved at ./model_sh_rnn.pth\n",
            "epoch=52\n",
            "current model with loss=1.8836168895165126 saved at ./model_sh_rnn.pth\n",
            "epoch=53\n",
            "current model with loss=1.865894690155983 saved at ./model_sh_rnn.pth\n",
            "epoch=54\n",
            "current model with loss=1.838755899005466 saved at ./model_sh_rnn.pth\n",
            "epoch=55\n",
            "current model with loss=1.8197803414530225 saved at ./model_sh_rnn.pth\n",
            "epoch=56\n",
            "current model with loss=1.8009491480059094 saved at ./model_sh_rnn.pth\n",
            "epoch=57\n",
            "current model with loss=1.7630114687813654 saved at ./model_sh_rnn.pth\n",
            "epoch=58\n",
            "current model with loss=1.734729043311543 saved at ./model_sh_rnn.pth\n",
            "epoch=59\n",
            "Loss [epoch=59] = 1.6997449398040771\n",
            "Train Sample +++++++++++++++++++++++++++++++++++++++++++++\n",
            "e:\n",
            "tennvednotes:\n",
            "at foll afine mid ss thoutheange ifret therd rg\n",
            "ame ir ous t ce d prfitheflewy l\n",
            "soll ay s bibe ian fioundayome he thati m ad.\n",
            "atharachs\n",
            "the i m\n",
            "tas e bo th thefiu hroraliuamerd opall \n",
            "++++++++++++++++++++++++++++++++++++++++++++++++++++++++++\n",
            "current model with loss=1.6997449398040771 saved at ./model_sh_rnn.pth\n",
            "epoch=60\n",
            "current model with loss=1.6761045025454626 saved at ./model_sh_rnn.pth\n",
            "epoch=61\n",
            "current model with loss=1.6549388435151842 saved at ./model_sh_rnn.pth\n",
            "epoch=62\n",
            "current model with loss=1.6368882093164656 saved at ./model_sh_rnn.pth\n",
            "epoch=63\n",
            "current model with loss=1.6078510582447052 saved at ./model_sh_rnn.pth\n",
            "epoch=64\n",
            "current model with loss=1.5951722396744623 saved at ./model_sh_rnn.pth\n",
            "epoch=65\n",
            "current model with loss=1.546227799521552 saved at ./model_sh_rnn.pth\n",
            "epoch=66\n",
            "current model with loss=1.5145586878061295 saved at ./model_sh_rnn.pth\n",
            "epoch=67\n",
            "current model with loss=1.4747761620415583 saved at ./model_sh_rnn.pth\n",
            "epoch=68\n",
            "current model with loss=1.4723377318845854 saved at ./model_sh_rnn.pth\n",
            "epoch=69\n",
            "Loss [epoch=69] = 1.427802287042141\n",
            "Train Sample +++++++++++++++++++++++++++++++++++++++++++++\n",
            ".k ow che che ckg\n",
            "he cie\n",
            "y the er\n",
            "\n",
            "ndasdyoueava:\n",
            "yoff babiswe ckid ifouthearitissee che e t besir moomouligas hima arers the be ouan\n",
            "alar\n",
            "ave ble ldinend ig rcugursendiue\n",
            "wakasheshil hoo phercaicorn m \n",
            "++++++++++++++++++++++++++++++++++++++++++++++++++++++++++\n",
            "current model with loss=1.427802287042141 saved at ./model_sh_rnn.pth\n",
            "epoch=70\n",
            "current model with loss=1.3964105968674023 saved at ./model_sh_rnn.pth\n",
            "epoch=71\n",
            "current model with loss=1.3691244671742122 saved at ./model_sh_rnn.pth\n",
            "epoch=72\n",
            "current model with loss=1.3364344007439084 saved at ./model_sh_rnn.pth\n",
            "epoch=73\n",
            "current model with loss=1.3127963145573933 saved at ./model_sh_rnn.pth\n",
            "epoch=74\n",
            "current model with loss=1.2827789030141301 saved at ./model_sh_rnn.pth\n",
            "epoch=75\n",
            "current model with loss=1.281608218120204 saved at ./model_sh_rnn.pth\n",
            "epoch=76\n",
            "current model with loss=1.2493000932865672 saved at ./model_sh_rnn.pth\n",
            "epoch=77\n",
            "current model with loss=1.204523916873667 saved at ./model_sh_rnn.pth\n",
            "epoch=78\n",
            "current model with loss=1.1742934981981914 saved at ./model_sh_rnn.pth\n",
            "epoch=79\n",
            "Loss [epoch=79] = 1.167004805472162\n",
            "Train Sample +++++++++++++++++++++++++++++++++++++++++++++\n",
            "fur e ar s:\n",
            "awe bo s m rce ifiuri n m d sishen ben he this\n",
            "is ad ghelou siuf wefine ereeaseler be tir m o h tesiuear brid s:\n",
            "\n",
            "nk t f ay t the bedn ck\n",
            "aw casidyoul be the benchatiushen wiuli whe athaius\n",
            "++++++++++++++++++++++++++++++++++++++++++++++++++++++++++\n",
            "current model with loss=1.167004805472162 saved at ./model_sh_rnn.pth\n",
            "epoch=80\n",
            "current model with loss=1.129109828422467 saved at ./model_sh_rnn.pth\n",
            "epoch=81\n",
            "current model with loss=1.0967334401276376 saved at ./model_sh_rnn.pth\n",
            "epoch=82\n",
            "current model with loss=1.0806601233780384 saved at ./model_sh_rnn.pth\n",
            "epoch=83\n",
            "current model with loss=1.0295444826285045 saved at ./model_sh_rnn.pth\n",
            "epoch=84\n",
            "current model with loss=1.0132819914983378 saved at ./model_sh_rnn.pth\n",
            "epoch=85\n",
            "current model with loss=0.9738812872933017 saved at ./model_sh_rnn.pth\n",
            "epoch=86\n",
            "current model with loss=0.9700127231578032 saved at ./model_sh_rnn.pth\n",
            "epoch=87\n",
            "current model with loss=0.9365540424154865 saved at ./model_sh_rnn.pth\n",
            "epoch=88\n",
            "current model with loss=0.9097151503794723 saved at ./model_sh_rnn.pth\n",
            "epoch=89\n",
            "Loss [epoch=89] = 0.8836197699937556\n",
            "Train Sample +++++++++++++++++++++++++++++++++++++++++++++\n",
            "ese prso wintheand ire anos o bsias\n",
            "st hendou mechisin: casiroman pe o bserthee o ts: hemadive o ve pind ressicok\n",
            "lly plisd ani ge woethend\n",
            "\n",
            "t ve wofes blnd oescome heabe bey shy ce iseve hea grde or p\n",
            "++++++++++++++++++++++++++++++++++++++++++++++++++++++++++\n",
            "current model with loss=0.8836197699937556 saved at ./model_sh_rnn.pth\n",
            "epoch=90\n",
            "current model with loss=0.8734603259298537 saved at ./model_sh_rnn.pth\n",
            "epoch=91\n",
            "current model with loss=0.8581640844543775 saved at ./model_sh_rnn.pth\n",
            "epoch=92\n",
            "current model with loss=0.8440428115427494 saved at ./model_sh_rnn.pth\n",
            "epoch=93\n",
            "current model with loss=0.8093114445606867 saved at ./model_sh_rnn.pth\n",
            "epoch=94\n",
            "epoch=95\n",
            "current model with loss=0.7966860394097037 saved at ./model_sh_rnn.pth\n",
            "epoch=96\n",
            "current model with loss=0.7708117067813873 saved at ./model_sh_rnn.pth\n",
            "epoch=97\n",
            "current model with loss=0.7408132499290837 saved at ./model_sh_rnn.pth\n",
            "epoch=98\n",
            "current model with loss=0.7378117599421077 saved at ./model_sh_rnn.pth\n",
            "epoch=99\n",
            "Loss [epoch=99] = 0.7449434089163939\n",
            "Train Sample +++++++++++++++++++++++++++++++++++++++++++++\n",
            "eall ghe the choa t gh the cie of corur shal ar ciesthet thend i a:\n",
            "\n",
            "t walldid s:\n",
            "aniesticiusonir s a s f pen silt shiowalopon one uthio le pey o he the hiudinintinould be the he cu\n",
            "\n",
            "ne t ceabat be the\n",
            "++++++++++++++++++++++++++++++++++++++++++++++++++++++++++\n"
          ]
        }
      ],
      "source": [
        "rnn_sh_losses = train_rnn(sh_data, sh_data_size, './model_sh_rnn.pth')"
      ]
    },
    {
      "cell_type": "markdown",
      "metadata": {
        "id": "0LNMgGhjEqZn"
      },
      "source": [
        "### LSTM"
      ]
    },
    {
      "cell_type": "code",
      "execution_count": 15,
      "metadata": {
        "id": "oA6zVNt6Ep7S",
        "colab": {
          "base_uri": "https://localhost:8080/"
        },
        "outputId": "094a597f-1111-4e62-d2dd-290c72296bf0"
      },
      "outputs": [
        {
          "output_type": "stream",
          "name": "stdout",
          "text": [
            "epoch=0\n",
            "current model with loss=2.9531518618265786 saved at ./model_sh_lstm.pth\n",
            "epoch=1\n",
            "current model with loss=2.5973354710472956 saved at ./model_sh_lstm.pth\n",
            "epoch=2\n",
            "current model with loss=2.4870109293195934 saved at ./model_sh_lstm.pth\n",
            "epoch=3\n",
            "current model with loss=2.4346225692166223 saved at ./model_sh_lstm.pth\n",
            "epoch=4\n",
            "current model with loss=2.3962298035621643 saved at ./model_sh_lstm.pth\n",
            "epoch=5\n",
            "current model with loss=2.3590226107173495 saved at ./model_sh_lstm.pth\n",
            "epoch=6\n",
            "current model with loss=2.3120613992214203 saved at ./model_sh_lstm.pth\n",
            "epoch=7\n",
            "current model with loss=2.2520479030079312 saved at ./model_sh_lstm.pth\n",
            "epoch=8\n",
            "current model with loss=2.1725487262010574 saved at ./model_sh_lstm.pth\n",
            "epoch=9\n",
            "Loss [epoch=9] = 2.0798637800746493\n",
            "Train Sample +++++++++++++++++++++++++++++++++++++++++++++\n",
            "vort cuser:\n",
            "met njsgle be an thatheatheat t ndepriue dreallaiurindi amig cr allans t geiugiusugr bus pr m he bot\n",
            "yo vom ssofoud lur ct if\n",
            "aangur iol bu se t w d ghesthofgllu t the the tithom\n",
            "amiue miur\n",
            "++++++++++++++++++++++++++++++++++++++++++++++++++++++++++\n",
            "current model with loss=2.0798637800746493 saved at ./model_sh_lstm.pth\n",
            "epoch=10\n",
            "current model with loss=1.955585617158148 saved at ./model_sh_lstm.pth\n",
            "epoch=11\n",
            "current model with loss=1.8072873420185513 saved at ./model_sh_lstm.pth\n",
            "epoch=12\n",
            "current model with loss=1.5791271643506155 saved at ./model_sh_lstm.pth\n",
            "epoch=13\n",
            "current model with loss=1.3435245255629222 saved at ./model_sh_lstm.pth\n",
            "epoch=14\n",
            "current model with loss=1.1331234731607966 saved at ./model_sh_lstm.pth\n",
            "epoch=15\n",
            "current model with loss=0.9559995763831668 saved at ./model_sh_lstm.pth\n",
            "epoch=16\n",
            "current model with loss=0.7945040737589201 saved at ./model_sh_lstm.pth\n",
            "epoch=17\n",
            "current model with loss=0.6369625959131453 saved at ./model_sh_lstm.pth\n",
            "epoch=18\n",
            "current model with loss=0.49796301705969703 saved at ./model_sh_lstm.pth\n",
            "epoch=19\n",
            "Loss [epoch=19] = 0.37485692443119156\n",
            "Train Sample +++++++++++++++++++++++++++++++++++++++++++++\n",
            "lifonelerurupe founonond cthecik\n",
            "hiushiul ss th anoourthollururelyove finshinon:\n",
            "wa andsshetorcoun\n",
            "ar fanpint t\n",
            "s thes:\n",
            "\n",
            "\n",
            "\n",
            "toouthe cousthes be t fone dse shelo the lliarouthe toupe he be t fitheathan r\n",
            "++++++++++++++++++++++++++++++++++++++++++++++++++++++++++\n",
            "current model with loss=0.37485692443119156 saved at ./model_sh_lstm.pth\n",
            "epoch=20\n",
            "current model with loss=0.2622793987393379 saved at ./model_sh_lstm.pth\n",
            "epoch=21\n",
            "current model with loss=0.18090731422934267 saved at ./model_sh_lstm.pth\n",
            "epoch=22\n",
            "current model with loss=0.12023668384386434 saved at ./model_sh_lstm.pth\n",
            "epoch=23\n",
            "current model with loss=0.08509707262015177 saved at ./model_sh_lstm.pth\n",
            "epoch=24\n",
            "current model with loss=0.06138885066482342 saved at ./model_sh_lstm.pth\n",
            "epoch=25\n",
            "current model with loss=0.04773462218387673 saved at ./model_sh_lstm.pth\n",
            "epoch=26\n",
            "current model with loss=0.04228940576690042 saved at ./model_sh_lstm.pth\n",
            "epoch=27\n",
            "current model with loss=0.038781032422169424 saved at ./model_sh_lstm.pth\n",
            "epoch=28\n",
            "current model with loss=0.03793157176793708 saved at ./model_sh_lstm.pth\n",
            "epoch=29\n",
            "Loss [epoch=29] = 0.03618636118254573\n",
            "Train Sample +++++++++++++++++++++++++++++++++++++++++++++\n",
            "swnt thay od\n",
            "whe hasirt tox.\n",
            "marckean an hicove toulinthould ulewoulshen ns ithind tes\n",
            "\n",
            "vee he tcomather:\n",
            "\n",
            "nchollun s:\n",
            "we he pr sty had i hendasit t touns com inct t d illl owint tomas t t t the ourece\n",
            "++++++++++++++++++++++++++++++++++++++++++++++++++++++++++\n",
            "current model with loss=0.03618636118254573 saved at ./model_sh_lstm.pth\n",
            "epoch=30\n",
            "epoch=31\n",
            "current model with loss=0.03560947172647704 saved at ./model_sh_lstm.pth\n",
            "epoch=32\n",
            "current model with loss=0.0343875144042411 saved at ./model_sh_lstm.pth\n",
            "epoch=33\n",
            "current model with loss=0.03413231292021616 saved at ./model_sh_lstm.pth\n",
            "epoch=34\n",
            "current model with loss=0.03410483115941235 saved at ./model_sh_lstm.pth\n",
            "epoch=35\n",
            "epoch=36\n",
            "current model with loss=0.034310479795547306 saved at ./model_sh_lstm.pth\n",
            "epoch=37\n",
            "current model with loss=0.03393361032309864 saved at ./model_sh_lstm.pth\n",
            "epoch=38\n",
            "current model with loss=0.03331328822969226 saved at ./model_sh_lstm.pth\n",
            "epoch=39\n",
            "Loss [epoch=39] = 0.03352600965445163\n",
            "Train Sample +++++++++++++++++++++++++++++++++++++++++++++\n",
            "y d inothecogoun mouswir ar s:\n",
            "\n",
            "mansthes he tustorend t.\n",
            "wa anoth mncof s thay the ourts:\n",
            "\n",
            "n t tofan thay casendiushard we be cind hau s ile he prous tallyouthens t t founar s th y itico tes he pr stiu\n",
            "++++++++++++++++++++++++++++++++++++++++++++++++++++++++++\n",
            "epoch=40\n",
            "current model with loss=0.033176524849194616 saved at ./model_sh_lstm.pth\n",
            "epoch=41\n",
            "epoch=42\n",
            "current model with loss=0.03266179101531937 saved at ./model_sh_lstm.pth\n",
            "epoch=43\n",
            "current model with loss=0.03258644175285655 saved at ./model_sh_lstm.pth\n",
            "epoch=44\n",
            "current model with loss=0.03236824326652115 saved at ./model_sh_lstm.pth\n",
            "epoch=45\n",
            "epoch=46\n",
            "current model with loss=0.03239283348294622 saved at ./model_sh_lstm.pth\n",
            "epoch=47\n",
            "epoch=48\n",
            "current model with loss=0.03251631734100455 saved at ./model_sh_lstm.pth\n",
            "epoch=49\n",
            "Loss [epoch=49] = 0.03282455019749856\n",
            "Train Sample +++++++++++++++++++++++++++++++++++++++++++++\n",
            "wathe ofon anop hi oulathe thise the sprif t\n",
            "the qe the omathe the sprd we the the elenounoul sinot ars:\n",
            "\n",
            "ndeand he wamould inthins:\n",
            "\n",
            "ndeearey stius\n",
            "\n",
            "nd hinyone thesounche s\n",
            "te pe thendatiushar sgis\n",
            "\n",
            "w\n",
            "++++++++++++++++++++++++++++++++++++++++++++++++++++++++++\n",
            "epoch=50\n",
            "current model with loss=0.03269894687279399 saved at ./model_sh_lstm.pth\n",
            "epoch=51\n",
            "epoch=52\n",
            "current model with loss=0.03288088141481341 saved at ./model_sh_lstm.pth\n",
            "epoch=53\n",
            "epoch=54\n",
            "current model with loss=0.03289387363272706 saved at ./model_sh_lstm.pth\n",
            "epoch=55\n",
            "current model with loss=0.03285521181613957 saved at ./model_sh_lstm.pth\n",
            "epoch=56\n",
            "epoch=57\n",
            "epoch=58\n",
            "current model with loss=0.03305300825053968 saved at ./model_sh_lstm.pth\n",
            "epoch=59\n",
            "Loss [epoch=59] = 0.03286541297267023\n",
            "Train Sample +++++++++++++++++++++++++++++++++++++++++++++\n",
            "roull wafan ve t fo che cthilll liburenethe pr sears\n",
            "th\n",
            "cknd\n",
            "wouthes:\n",
            "\n",
            "ndeand t toul cigan at thars bun wie t be t pr youlintho tes therd he pr stan cterthalos\n",
            "\n",
            "vear the thally wn:\n",
            "wa anole minghis\n",
            "\n",
            "ve\n",
            "++++++++++++++++++++++++++++++++++++++++++++++++++++++++++\n",
            "current model with loss=0.03286541297267023 saved at ./model_sh_lstm.pth\n",
            "epoch=60\n",
            "current model with loss=0.03251172414376116 saved at ./model_sh_lstm.pth\n",
            "epoch=61\n",
            "epoch=62\n",
            "current model with loss=0.032587204258460484 saved at ./model_sh_lstm.pth\n",
            "epoch=63\n",
            "current model with loss=0.03251672102002582 saved at ./model_sh_lstm.pth\n",
            "epoch=64\n",
            "epoch=65\n",
            "current model with loss=0.03235365044404009 saved at ./model_sh_lstm.pth\n",
            "epoch=66\n",
            "epoch=67\n",
            "current model with loss=0.03239129125924794 saved at ./model_sh_lstm.pth\n",
            "epoch=68\n",
            "epoch=69\n",
            "Loss [epoch=69] = 0.032678976683099686\n",
            "Train Sample +++++++++++++++++++++++++++++++++++++++++++++\n",
            "lly fad uthe tousinburd o twhe ch thendathe s if be lie fin as s:\n",
            "\n",
            "\n",
            "\n",
            "s an the of be lize lin:\n",
            "wewine\n",
            "t th ther:\n",
            "we ie\n",
            "thee t fo ter o the s oulathes:\n",
            "\n",
            "n wi thaliushar se memushet y memathe sthe the the\n",
            "++++++++++++++++++++++++++++++++++++++++++++++++++++++++++\n",
            "epoch=70\n",
            "epoch=71\n",
            "current model with loss=0.033144565680534775 saved at ./model_sh_lstm.pth\n",
            "epoch=72\n",
            "epoch=73\n",
            "current model with loss=0.03264779258501625 saved at ./model_sh_lstm.pth\n",
            "epoch=74\n",
            "epoch=75\n",
            "current model with loss=0.03295015858626963 saved at ./model_sh_lstm.pth\n",
            "epoch=76\n",
            "current model with loss=0.03277904567120357 saved at ./model_sh_lstm.pth\n",
            "epoch=77\n",
            "epoch=78\n",
            "epoch=79\n",
            "Loss [epoch=79] = 0.03319976400780433\n",
            "Train Sample +++++++++++++++++++++++++++++++++++++++++++++\n",
            " memathe s t hishen whe s porus t ts the.\n",
            "\n",
            "wan he prus t t the ourns t t founole choof mous\n",
            "\n",
            "ve wi cagofe ve tous thes:\n",
            "\n",
            "ne\n",
            "yowe incis\n",
            "inthe. ntind t to the ounandiushare ato te he ouneandius the is de\n",
            "++++++++++++++++++++++++++++++++++++++++++++++++++++++++++\n",
            "current model with loss=0.03319976400780433 saved at ./model_sh_lstm.pth\n",
            "epoch=80\n",
            "epoch=81\n",
            "current model with loss=0.0326079808247515 saved at ./model_sh_lstm.pth\n",
            "epoch=82\n",
            "epoch=83\n",
            "epoch=84\n",
            "epoch=85\n",
            "current model with loss=0.03306906927779588 saved at ./model_sh_lstm.pth\n",
            "epoch=86\n",
            "epoch=87\n",
            "current model with loss=0.03262016968720774 saved at ./model_sh_lstm.pth\n",
            "epoch=88\n",
            "epoch=89\n",
            "Loss [epoch=89] = 0.03303582124731798\n",
            "Train Sample +++++++++++++++++++++++++++++++++++++++++++++\n",
            "eswitorg oaicot ce inonus are is borey oule be the lofir at pean whe toulinthoul he prourd o hacot peano tiren oninor anof be cha ar s ote cinchurouf vesthe the im inoren s m iren arn s:\n",
            "we we inoll wn\n",
            "++++++++++++++++++++++++++++++++++++++++++++++++++++++++++\n",
            "current model with loss=0.03303582124731798 saved at ./model_sh_lstm.pth\n",
            "epoch=90\n",
            "epoch=91\n",
            "epoch=92\n",
            "current model with loss=1.6268432819181018 saved at ./model_sh_lstm.pth\n",
            "epoch=93\n",
            "current model with loss=1.045176920791467 saved at ./model_sh_lstm.pth\n",
            "epoch=94\n",
            "current model with loss=0.6534194370938672 saved at ./model_sh_lstm.pth\n",
            "epoch=95\n",
            "current model with loss=0.44307451736595893 saved at ./model_sh_lstm.pth\n",
            "epoch=96\n",
            "current model with loss=0.3176865049948295 saved at ./model_sh_lstm.pth\n",
            "epoch=97\n",
            "current model with loss=0.25633229470501345 saved at ./model_sh_lstm.pth\n",
            "epoch=98\n",
            "current model with loss=0.19492695139100155 saved at ./model_sh_lstm.pth\n",
            "epoch=99\n",
            "Loss [epoch=99] = 0.15682106816934216\n",
            "Train Sample +++++++++++++++++++++++++++++++++++++++++++++\n",
            "ithar owa th ghat t wilius the.\n",
            "tirghoulanf towe ha iu t omans bo the he h iall:\n",
            "sh theloul thesthe\n",
            "lewallilvestol thes t t tr o the pod nus bur wiuse: ste t\n",
            "\n",
            "\n",
            "\n",
            "te bsth lfir atiuso\n",
            "\n",
            "\n",
            "am m\n",
            "\n",
            "nenf wie had\n",
            "++++++++++++++++++++++++++++++++++++++++++++++++++++++++++\n",
            "current model with loss=0.15682106816934216 saved at ./model_sh_lstm.pth\n"
          ]
        }
      ],
      "source": [
        "lstm_sh_losses = train_lstm(sh_data, sh_data_size, './model_sh_lstm.pth')"
      ]
    },
    {
      "cell_type": "markdown",
      "metadata": {
        "id": "tUGxc-Z1wRiP"
      },
      "source": [
        "##Generating texts"
      ]
    },
    {
      "cell_type": "markdown",
      "metadata": {
        "id": "43rEOvbopt3s"
      },
      "source": [
        "- A sample text to input the model"
      ]
    },
    {
      "cell_type": "code",
      "execution_count": 57,
      "metadata": {
        "id": "2gkZC4UagpoB"
      },
      "outputs": [],
      "source": [
        "input_sample_text = 'First Citizen:\\nYou are all resolved rather to die than to famish?\\n'\n",
        "\n",
        "def create_input_sample_dataset(input_sample_text):\n",
        "    input_sample = remove_extraneous_characters(input_sample_text.lower(), chars)\n",
        "    input_sample = list(input_sample)\n",
        "    for i, ch in enumerate(input_sample):\n",
        "        input_sample[i] = char_to_ix[ch]\n",
        "\n",
        "    input_sample = torch.tensor(input_sample).to(device)\n",
        "    input_sample = torch.unsqueeze(input_sample, dim=1)\n",
        "    return input_sample"
      ]
    },
    {
      "cell_type": "markdown",
      "metadata": {
        "id": "m7N1xZocpFIf"
      },
      "source": [
        "- This function generates the output generated by the model for the input sample, and if the input sample text is not given, it samples a sequence of original data and gives it to the model."
      ]
    },
    {
      "cell_type": "code",
      "execution_count": 54,
      "metadata": {
        "id": "zTFXBqKqII_j"
      },
      "outputs": [],
      "source": [
        "def generate_text(model, data, data_size, input_sample_test = None, output_len=1000):\n",
        "    model.eval()\n",
        "    data_ptr = 0\n",
        "    test_output=\"\"\n",
        "\n",
        "    if input_sample_test is not None:\n",
        "        index = 0\n",
        "        seq_len = len(input_sample_test)\n",
        "        input_seq = input_sample_test[index : index + seq_len-1]\n",
        "    else:\n",
        "        # If input sample not declared, select an initial string from the data of 10 characters randomly\n",
        "        index = np.random.randint(data_size - 11)\n",
        "        seq_len = 10\n",
        "        input_seq = data[index : index + 9]\n",
        "\n",
        "    model.hidden_state = None\n",
        "    # Set last hidden state of model by feeding input sequence to model\n",
        "    output = model(input_seq.to(torch.long), model.hidden_state)\n",
        "\n",
        "    # Last charachter feed to model\n",
        "    if input_sample_test is not None:\n",
        "        input_seq = input_sample_test[index + seq_len-1 : index + seq_len]\n",
        "    else:\n",
        "        input_seq = data[index + seq_len-1 : index + seq_len]\n",
        "\n",
        "    model.hidden_state = None\n",
        "    while True:\n",
        "        output = model(input_seq.to(torch.long), model.hidden_state)\n",
        "\n",
        "        output = F.softmax(torch.squeeze(output), dim=0)\n",
        "        dist = Categorical(output)\n",
        "        index = dist.sample().item()\n",
        "\n",
        "        test_output += ix_to_char[index]\n",
        "        input_seq[0][0] = index\n",
        "        data_ptr += 1\n",
        "\n",
        "        if data_ptr  > output_len:\n",
        "            break\n",
        "\n",
        "    print(\"Eaxmple of generated text --------------------------------------------------------------------------\")\n",
        "    print(test_output)\n",
        "    print(\"----------------------------------------------------------------------------------------------------\")"
      ]
    },
    {
      "cell_type": "markdown",
      "metadata": {
        "id": "MatZYKCUFOSn"
      },
      "source": [
        "### RNN"
      ]
    },
    {
      "cell_type": "code",
      "execution_count": 21,
      "metadata": {
        "id": "-oT9TsOBFQ9k",
        "colab": {
          "base_uri": "https://localhost:8080/"
        },
        "outputId": "c87cbfee-51f5-42cb-c72c-a92b8dfaa407"
      },
      "outputs": [
        {
          "output_type": "stream",
          "name": "stdout",
          "text": [
            "best loss 0.7378117599421077\n",
            "Eaxmple of generated text --------------------------------------------------------------------------\n",
            "len:\n",
            "wa\n",
            "t cey ithe oufal anom o hiciche o f that pekde athe oefieenod ow ce cou noueakoulieanendse:\n",
            "\n",
            "ven o hali m al s:\n",
            "we bo the s f tesive the st hen s p the ousheyor wolest himage wofen\n",
            "the our whar adn bl oninarit ceys urcis\n",
            "aditasoustys t s\n",
            "\n",
            "and\n",
            "tyof mole be po the sthen anou w brof o heysede aselire at fousthen s at fouve he the ceasheyoul bey shady bperad this\n",
            "ir gla oura:\n",
            "\n",
            "ns he the aselinist hiryondarery bey o ma bo the st s t t l at fersh s at way shan pe yomouthen o haposil\n",
            "\n",
            "\n",
            "\n",
            "\n",
            "\n",
            "s fiduli anoman s ala:\n",
            "adr ourveyoueast t fowaloula he he nd\n",
            "thy ciu athe st we cr\n",
            "fo o s\n",
            "\n",
            "ce che wn ofive gofe hemesivoupou n mole enou e oushetiustornou ar gione at foustys\n",
            "fomadyoushetoun at fom enghe st hend s\n",
            "\n",
            "t fowadoun be oureenghe\n",
            "t the sthil ld\n",
            "an anos t the ouin ghe che alouthes:\n",
            "is\n",
            "\n",
            "vendeli nd s: auso aurcie\n",
            "iperthenid s:\n",
            "anonthealfius s\n",
            "\n",
            "t t tlldsear sey s bo the st fur wa d sutlizeengons\n",
            "ty cace cos o he thayane at o the s\n",
            "ty co ch iafis\n",
            "m the hinfinavo sit s\n",
            "\n",
            "thithomalobrerse:\n",
            "\n",
            "\n",
            "\n",
            "\n",
            "\n",
            "\n",
            "s fo\n",
            "----------------------------------------------------------------------------------------------------\n"
          ]
        }
      ],
      "source": [
        "best_model_rnn =  RNN(vocab_size, vocab_size, 512, 6).to(device)\n",
        "best_model_rnn.load_model('./model_sh_rnn.pth')\n",
        "print(\"best loss\", min(rnn_sh_losses))\n",
        "generate_text(best_model_rnn, sh_data, sh_data_size)"
      ]
    },
    {
      "cell_type": "markdown",
      "metadata": {
        "id": "Fwr90H6eFPqR"
      },
      "source": [
        "### LSTM"
      ]
    },
    {
      "cell_type": "code",
      "execution_count": 22,
      "metadata": {
        "id": "R2DUmeREFUkc",
        "colab": {
          "base_uri": "https://localhost:8080/"
        },
        "outputId": "dd037b51-7ad5-43c9-99ca-7e31351c8d92"
      },
      "outputs": [
        {
          "output_type": "stream",
          "name": "stdout",
          "text": [
            "best loss 0.03235365044404009\n",
            "Eaxmple of generated text --------------------------------------------------------------------------\n",
            "is\n",
            "\n",
            "t hen nste ir ghathar ges\n",
            "tiueandius t t foman hhary lipealare blerd llian:\n",
            "aken are m atofiued ansthe harst the hare minchur fous iser\n",
            "fomofirn whe hr atre yo ther we ldius th ge minchurerstyouerif re oulintors t t folest coce theld. fumagonce inods by: t the otherst f h moun d e wadinof thacerd ines:\n",
            "yone he se urell o\n",
            "wh whe ha bo t d f fiat th fbrayof t th mal oto hrcorid th gus\n",
            "then t leians fius:\n",
            "whee w m d bld ve t t e pathere he pr\n",
            "pr n:\n",
            "ceierd y ter arr f tha f athou anothamerst then wher i a ghe piatyouke ind h ghilou andare mrathe ld. wame atot\n",
            "\n",
            "thalomestheatius beandius the ld lens t t to al cenice t printht plircius t t t pred llictitice are oular se.\n",
            "th l lear thar ger al thace ctherd wathor t itherd llert thasere meverdid y gimache ld bufatrthathamig p be imashe \n",
            "theashe the pie y ms: shierdry toul st then n.\n",
            "l pe hir aty pas th lll oniar ghagoul shil keandius the thize tr mathou anothago afonsnd hinct t perurell owa burersusen: gof t ben k therd wartusest\n",
            "whe h herd \n",
            "----------------------------------------------------------------------------------------------------\n"
          ]
        }
      ],
      "source": [
        "best_model_lstm =  LSTM(vocab_size, vocab_size, 512, 3).to(device)\n",
        "best_model_lstm.load_model('./model_sh_lstm.pth')\n",
        "print(\"best loss\", min(lstm_sh_losses))\n",
        "generate_text(best_model_lstm, sh_data, sh_data_size)"
      ]
    },
    {
      "cell_type": "markdown",
      "metadata": {
        "id": "_thNtUicv2kd"
      },
      "source": [
        "## Plotting the losses"
      ]
    },
    {
      "cell_type": "code",
      "execution_count": 23,
      "metadata": {
        "id": "f_If3o7grbO8"
      },
      "outputs": [],
      "source": [
        "def plot_losses(losses):\n",
        "    xpoints = np.array(range(len(losses)))\n",
        "    ypoints = np.array(losses)\n",
        "\n",
        "    plt.plot(xpoints, ypoints, color='blue',label='losses')\n",
        "    plt.xlabel(\"epoch\")\n",
        "    plt.ylabel(\"loss\")\n",
        "    plt.legend()\n",
        "    plt.show()"
      ]
    },
    {
      "cell_type": "markdown",
      "metadata": {
        "id": "ylDZpjFtJ6Mo"
      },
      "source": [
        "### RNN"
      ]
    },
    {
      "cell_type": "code",
      "execution_count": 24,
      "metadata": {
        "id": "lvQC5FNzJ4Q1",
        "colab": {
          "base_uri": "https://localhost:8080/",
          "height": 449
        },
        "outputId": "0ead8322-7904-44a0-fc9f-e5b58e4f7b1a"
      },
      "outputs": [
        {
          "output_type": "display_data",
          "data": {
            "text/plain": [
              "<Figure size 640x480 with 1 Axes>"
            ],
            "image/png": "[encoded data removed]"
          },
          "metadata": {}
        }
      ],
      "source": [
        "plot_losses(rnn_sh_losses)"
      ]
    },
    {
      "cell_type": "markdown",
      "metadata": {
        "id": "nbd_-EFInd-K"
      },
      "source": [
        "### LSTM"
      ]
    },
    {
      "cell_type": "code",
      "execution_count": 25,
      "metadata": {
        "id": "g44i0NiKJ97c",
        "colab": {
          "base_uri": "https://localhost:8080/",
          "height": 449
        },
        "outputId": "940d50ea-13c5-43ef-80cc-ce09b568750b"
      },
      "outputs": [
        {
          "output_type": "display_data",
          "data": {
            "text/plain": [
              "<Figure size 640x480 with 1 Axes>"
            ],
            "image/png": "[encoded data removed]"
          },
          "metadata": {}
        }
      ],
      "source": [
        "plot_losses(lstm_sh_losses)"
      ]
    },
    {
      "cell_type": "markdown",
      "metadata": {
        "id": "nkoXQFMmKbU1"
      },
      "source": [
        "## Report"
      ]
    },
    {
      "cell_type": "markdown",
      "metadata": {
        "id": "liCOCuR5KeFE"
      },
      "source": [
        "According to the texts generated from different models and the losses during the training process of the models, analyze what is the reason for the difference in the result of models.\n",
        "\n",
        "Which model works better and what do you think are the reasons?"
      ]
    },
    {
      "cell_type": "markdown",
      "metadata": {
        "id": "_TMkOL1uK8AU"
      },
      "source": [
        "<font color='#73FF73'><b>Your answer : </b></font>\n"
      ]
    },
    {
      "cell_type": "markdown",
      "source": [
        "LSTM result text is better than RNN. because the structure of the output is more alike to the Shakespeare plays. one of the potential reasons of the better performance of LSTM is the computational flexibility which is more in the LSTM and it can manage its memory cells more efficiently."
      ],
      "metadata": {
        "id": "-NcM0sBh96rg"
      }
    },
    {
      "cell_type": "markdown",
      "metadata": {
        "id": "j3UI0UnS9tzg"
      },
      "source": [
        "---\n",
        "---"
      ]
    },
    {
      "cell_type": "markdown",
      "metadata": {
        "id": "UjJP-PvXLKVf"
      },
      "source": [
        "#2. FineTuning"
      ]
    },
    {
      "cell_type": "markdown",
      "metadata": {
        "id": "DqR62s6qMfc5"
      },
      "source": [
        "FineTuning is a technique used in neural network training where a pre-trained model is further trained on a new task or dataset. It allows us to leverage the knowledge and representations learned by a pre-trained model and adapt it to a specific task or domain.\n",
        "\n",
        "In this exercise, we first train the models with a `wikipedia` dataset that contains english texts, then we fine-tune this pre-trained model again with the Shakespeare play dataset to check the effect of this method on different models."
      ]
    },
    {
      "cell_type": "markdown",
      "metadata": {
        "id": "hrBfhPcpOB-x"
      },
      "source": [
        "## Load Wikipedia dataset"
      ]
    },
    {
      "cell_type": "code",
      "execution_count": 26,
      "metadata": {
        "id": "UiqBbrV4kSYN",
        "colab": {
          "base_uri": "https://localhost:8080/"
        },
        "outputId": "5c819d14-24c1-4a28-c349-29ff798087d5"
      },
      "outputs": [
        {
          "output_type": "stream",
          "name": "stdout",
          "text": [
            "--2023-12-06 21:12:59--  https://s3.amazonaws.com/fast-ai-nlp/wikitext-2.tgz\n",
            "Resolving s3.amazonaws.com (s3.amazonaws.com)... 52.216.29.254, 52.216.114.205, 16.182.42.16, ...\n",
            "Connecting to s3.amazonaws.com (s3.amazonaws.com)|52.216.29.254|:443... connected.\n",
            "HTTP request sent, awaiting response... 200 OK\n",
            "Length: 4070055 (3.9M) [application/x-tar]\n",
            "Saving to: ‘wikitext-2.tgz’\n",
            "\n",
            "wikitext-2.tgz      100%[===================>]   3.88M  19.1MB/s    in 0.2s    \n",
            "\n",
            "2023-12-06 21:13:00 (19.1 MB/s) - ‘wikitext-2.tgz’ saved [4070055/4070055]\n",
            "\n"
          ]
        }
      ],
      "source": [
        "!wget https://s3.amazonaws.com/fast-ai-nlp/wikitext-2.tgz"
      ]
    },
    {
      "cell_type": "code",
      "execution_count": 27,
      "metadata": {
        "id": "ecXOywp5lv0D",
        "colab": {
          "base_uri": "https://localhost:8080/"
        },
        "outputId": "7f560a6d-e522-43cb-a5b9-c6127e8b48a2"
      },
      "outputs": [
        {
          "output_type": "stream",
          "name": "stdout",
          "text": [
            "wikitext-2/\n",
            "wikitext-2/train.csv\n",
            "wikitext-2/test.csv\n"
          ]
        }
      ],
      "source": [
        "!tar -xvzf '/content/wikitext-2.tgz' -C '/content/data'"
      ]
    },
    {
      "cell_type": "code",
      "execution_count": 28,
      "metadata": {
        "id": "c52RASUHpGM3"
      },
      "outputs": [],
      "source": [
        "!cat './data/wikitext-2/train.csv' | tr -d '\\n' > ./data/wikitext.txt"
      ]
    },
    {
      "cell_type": "markdown",
      "metadata": {
        "id": "6Sfwpof1OGOv"
      },
      "source": [
        "##Preprocessing"
      ]
    },
    {
      "cell_type": "code",
      "execution_count": 29,
      "metadata": {
        "cellView": "code",
        "id": "CniodW0Knkld"
      },
      "outputs": [],
      "source": [
        "def clean_wiki_data(data):\n",
        "    repl=''\n",
        "    data=re.sub('\\(', repl, data)\n",
        "    data=re.sub('\\)', repl, data)\n",
        "    for pattern in set(re.findall(\"=.*=\",data)):\n",
        "        data=re.sub(pattern, repl, data)\n",
        "    for pattern in set(re.findall(\"<unk>\",data)):\n",
        "        data=re.sub(pattern,repl,data)\n",
        "    for pattern in set(re.findall(r\"[^\\w ]\", data)):\n",
        "        repl=''\n",
        "        if pattern=='-':\n",
        "            repl=' '\n",
        "        if pattern!='.' and pattern!=\"\\'\":\n",
        "            data=re.sub(\"\\\\\"+pattern, repl, data)\n",
        "\n",
        "    return data\n",
        "\n",
        "def load_data(filepath):\n",
        "    f=open(filepath)\n",
        "    return f.read()"
      ]
    },
    {
      "cell_type": "code",
      "execution_count": 30,
      "metadata": {
        "id": "N-BjAHGHpm4H"
      },
      "outputs": [],
      "source": [
        "wikidata=load_data(\"./data/wikitext.txt\")\n",
        "data=wikidata[:]\n",
        "data=clean_wiki_data(data)\n",
        "wikiPreprocessed_file = open(\"./data/wiki_preprocesed.txt\", \"w\")\n",
        "f = wikiPreprocessed_file.write(data)\n",
        "wikiPreprocessed_file.close()"
      ]
    },
    {
      "cell_type": "markdown",
      "metadata": {
        "id": "MxILpQvZmFs8"
      },
      "source": [
        "- Load data in amount of 50kb for finetuning"
      ]
    },
    {
      "cell_type": "code",
      "execution_count": 31,
      "metadata": {
        "id": "Q9AUJmRFPGqH"
      },
      "outputs": [],
      "source": [
        "wi_data_file = \"./data/wiki_preprocesed.txt\"\n",
        "wi_data = open(wi_data_file, 'r').read(50000)"
      ]
    },
    {
      "cell_type": "code",
      "execution_count": 32,
      "metadata": {
        "id": "hdxMOch8e4mB"
      },
      "outputs": [],
      "source": [
        "wi_data = remove_extraneous_characters(wi_data.lower(), chars)\n",
        "wi_data_size = len(wi_data)\n",
        "\n",
        "wi_data = list(wi_data)\n",
        "for i, ch in enumerate(wi_data):\n",
        "    wi_data[i] = char_to_ix[ch]\n",
        "\n",
        "wi_data = torch.tensor(wi_data).to(device)\n",
        "wi_data = torch.unsqueeze(wi_data, dim=1)"
      ]
    },
    {
      "cell_type": "markdown",
      "metadata": {
        "id": "_Z9RXj7fOPFh"
      },
      "source": [
        "## Pre-training by wikipedia dataset"
      ]
    },
    {
      "cell_type": "markdown",
      "metadata": {
        "id": "WQRRXlSDfVEI"
      },
      "source": [
        "### RNN"
      ]
    },
    {
      "cell_type": "code",
      "execution_count": 33,
      "metadata": {
        "id": "00m3G13vfcQ1",
        "colab": {
          "base_uri": "https://localhost:8080/"
        },
        "outputId": "6259b979-8413-4671-e3d5-ab76fcef2fcc"
      },
      "outputs": [
        {
          "output_type": "stream",
          "name": "stdout",
          "text": [
            "RNN(\n",
            "  (dropout): Dropout(p=0.5, inplace=False)\n",
            "  (encoder): Embedding(30, 30)\n",
            "  (rnn): RNN(30, 512, num_layers=6, batch_first=True)\n",
            "  (decoder): Linear(in_features=512, out_features=30, bias=True)\n",
            ")\n",
            "epoch=0\n",
            "current model with loss=2.7290302651827454 saved at ./model_wi_rnn.pth\n",
            "epoch=1\n",
            "current model with loss=2.6248034629665438 saved at ./model_wi_rnn.pth\n",
            "epoch=2\n",
            "current model with loss=2.5716143826969335 saved at ./model_wi_rnn.pth\n",
            "epoch=3\n",
            "current model with loss=2.5590264074137954 saved at ./model_wi_rnn.pth\n",
            "epoch=4\n",
            "current model with loss=2.545735462767179 saved at ./model_wi_rnn.pth\n",
            "epoch=5\n",
            "current model with loss=2.5204814047109885 saved at ./model_wi_rnn.pth\n",
            "epoch=6\n",
            "current model with loss=2.512947760644506 saved at ./model_wi_rnn.pth\n",
            "epoch=7\n",
            "current model with loss=2.4945776931575088 saved at ./model_wi_rnn.pth\n",
            "epoch=8\n",
            "current model with loss=2.4864187905045805 saved at ./model_wi_rnn.pth\n",
            "epoch=9\n",
            "Loss [epoch=9] = 2.480671847452883\n",
            "Train Sample +++++++++++++++++++++++++++++++++++++++++++++\n",
            "eirein mas . . cof t ted . ver as . iotinicherorris  oyotlathe h    iatrt ler lfitondalatulilerl  in we oul dtooug  bre deenon esryocatioukres  . in povale tounn srein .inan rothacr co tres   dcpeviofh\n",
            "++++++++++++++++++++++++++++++++++++++++++++++++++++++++++\n",
            "current model with loss=2.480671847452883 saved at ./model_wi_rnn.pth\n",
            "epoch=10\n",
            "current model with loss=2.4726943559333927 saved at ./model_wi_rnn.pth\n",
            "epoch=11\n",
            "current model with loss=2.467470898002875 saved at ./model_wi_rnn.pth\n",
            "epoch=12\n",
            "current model with loss=2.4647690526774673 saved at ./model_wi_rnn.pth\n",
            "epoch=13\n",
            "current model with loss=2.4614837169647217 saved at ./model_wi_rnn.pth\n",
            "epoch=14\n",
            "epoch=15\n",
            "current model with loss=2.460257145225025 saved at ./model_wi_rnn.pth\n",
            "epoch=16\n",
            "current model with loss=2.452102586871288 saved at ./model_wi_rnn.pth\n",
            "epoch=17\n",
            "current model with loss=2.4486564417354395 saved at ./model_wi_rnn.pth\n",
            "epoch=18\n",
            "current model with loss=2.4429728554897623 saved at ./model_wi_rnn.pth\n",
            "epoch=19\n",
            "Loss [epoch=19] = 2.4382849071846633\n",
            "Train Sample +++++++++++++++++++++++++++++++++++++++++++++\n",
            "onxhes mlk walen storo mrinc theur .com  e mit  wenthat m  m tt ite  hek     r eniiglbous meral ddinther thees ye .  ay im uned rt  d . mumin gat frsin herind ug .   . m   fiered . teslmh y . mcave n  \n",
            "++++++++++++++++++++++++++++++++++++++++++++++++++++++++++\n",
            "current model with loss=2.4382849071846633 saved at ./model_wi_rnn.pth\n",
            "epoch=20\n",
            "current model with loss=2.4335148764438315 saved at ./model_wi_rnn.pth\n",
            "epoch=21\n",
            "current model with loss=2.4302387862909036 saved at ./model_wi_rnn.pth\n",
            "epoch=22\n",
            "epoch=23\n",
            "current model with loss=2.4323081188514584 saved at ./model_wi_rnn.pth\n",
            "epoch=24\n",
            "current model with loss=2.4296783111134514 saved at ./model_wi_rnn.pth\n",
            "epoch=25\n",
            "current model with loss=2.426776925071341 saved at ./model_wi_rnn.pth\n",
            "epoch=26\n",
            "current model with loss=2.419494456932193 saved at ./model_wi_rnn.pth\n",
            "epoch=27\n",
            "current model with loss=2.4104420943338365 saved at ./model_wi_rnn.pth\n",
            "epoch=28\n",
            "current model with loss=2.405701043175869 saved at ./model_wi_rnn.pth\n",
            "epoch=29\n",
            "Loss [epoch=29] = 2.400565723903844\n",
            "Train Sample +++++++++++++++++++++++++++++++++++++++++++++\n",
            "mphethaceclorlintwhrin emon th six nth in  oun  br  omoryones ntan iofr    wsoubonn  nd  mndin   ine d dile in merngal  eop  fintrandigrevald . s lomrl carthrl  s tininalo odiere  carrengh t of ed cy e\n",
            "++++++++++++++++++++++++++++++++++++++++++++++++++++++++++\n",
            "current model with loss=2.400565723903844 saved at ./model_wi_rnn.pth\n",
            "epoch=30\n",
            "current model with loss=2.3984204354833385 saved at ./model_wi_rnn.pth\n",
            "epoch=31\n",
            "current model with loss=2.3888978938587377 saved at ./model_wi_rnn.pth\n",
            "epoch=32\n",
            "current model with loss=2.3852797316723184 saved at ./model_wi_rnn.pth\n",
            "epoch=33\n",
            "current model with loss=2.3832359255337323 saved at ./model_wi_rnn.pth\n",
            "epoch=34\n",
            "current model with loss=2.377720365758802 saved at ./model_wi_rnn.pth\n",
            "epoch=35\n",
            "current model with loss=2.3750864150094206 saved at ./model_wi_rnn.pth\n",
            "epoch=36\n",
            "current model with loss=2.3656232474280183 saved at ./model_wi_rnn.pth\n",
            "epoch=37\n",
            "current model with loss=2.3589895905041303 saved at ./model_wi_rnn.pth\n",
            "epoch=38\n",
            "current model with loss=2.3562653494662924 saved at ./model_wi_rnn.pth\n",
            "epoch=39\n",
            "Loss [epoch=39] = 2.350537468175419\n",
            "Train Sample +++++++++++++++++++++++++++++++++++++++++++++\n",
            "ked ie .unde  soulnd acoriie ale shedove   adseali m  w terhd tesfrstatbejedindigovonond  indvne  m g ndirind ismagloindiomy  irt  iconi t omon swilat fietind thed thetr geseitasterom sioustofaledity  \n",
            "++++++++++++++++++++++++++++++++++++++++++++++++++++++++++\n",
            "current model with loss=2.350537468175419 saved at ./model_wi_rnn.pth\n",
            "epoch=40\n",
            "current model with loss=2.3412155440596285 saved at ./model_wi_rnn.pth\n",
            "epoch=41\n",
            "current model with loss=2.3386915531314787 saved at ./model_wi_rnn.pth\n",
            "epoch=42\n",
            "current model with loss=2.3365562841540477 saved at ./model_wi_rnn.pth\n",
            "epoch=43\n",
            "current model with loss=2.333213720165315 saved at ./model_wi_rnn.pth\n",
            "epoch=44\n",
            "current model with loss=2.3218542591470186 saved at ./model_wi_rnn.pth\n",
            "epoch=45\n",
            "current model with loss=2.3202905068632034 saved at ./model_wi_rnn.pth\n",
            "epoch=46\n",
            "current model with loss=2.307840487996086 saved at ./model_wi_rnn.pth\n",
            "epoch=47\n",
            "epoch=48\n",
            "current model with loss=2.2994309272922453 saved at ./model_wi_rnn.pth\n",
            "epoch=49\n",
            "Loss [epoch=49] = 2.2923771084332074\n",
            "Train Sample +++++++++++++++++++++++++++++++++++++++++++++\n",
            "ead oereth  ted   wn inin k . . ugby  athticod . onpexrom wan sicothead ic ss ththan  s tsendom    olin kewi by cgiof onthtivoear nourintsproty ingosocheme  sousun itoof thesindire witamihachetind    s\n",
            "++++++++++++++++++++++++++++++++++++++++++++++++++++++++++\n",
            "current model with loss=2.2923771084332074 saved at ./model_wi_rnn.pth\n",
            "epoch=50\n",
            "current model with loss=2.281422486070727 saved at ./model_wi_rnn.pth\n",
            "epoch=51\n",
            "current model with loss=2.277028883089785 saved at ./model_wi_rnn.pth\n",
            "epoch=52\n",
            "current model with loss=2.2697574427870455 saved at ./model_wi_rnn.pth\n",
            "epoch=53\n",
            "current model with loss=2.2681958323619407 saved at ./model_wi_rnn.pth\n",
            "epoch=54\n",
            "current model with loss=2.2637841633108797 saved at ./model_wi_rnn.pth\n",
            "epoch=55\n",
            "current model with loss=2.2586622804891867 saved at ./model_wi_rnn.pth\n",
            "epoch=56\n",
            "current model with loss=2.2553846562495 saved at ./model_wi_rnn.pth\n",
            "epoch=57\n",
            "current model with loss=2.249412685144143 saved at ./model_wi_rnn.pth\n",
            "epoch=58\n",
            "current model with loss=2.2413281866761503 saved at ./model_wi_rnn.pth\n",
            "epoch=59\n",
            "Loss [epoch=59] = 2.240586308182263\n",
            "Train Sample +++++++++++++++++++++++++++++++++++++++++++++\n",
            "r wis  leli in  moletherdane  richak pon he fedaf demonaterlliun de n min ted m igninie tma twretyy lode herd t  d smy  chbononsthied sthediedind .ornthemosiodioredioutere zeeryt couabauk..tcafrinrecre\n",
            "++++++++++++++++++++++++++++++++++++++++++++++++++++++++++\n",
            "current model with loss=2.240586308182263 saved at ./model_wi_rnn.pth\n",
            "epoch=60\n",
            "current model with loss=2.2306986871312877 saved at ./model_wi_rnn.pth\n",
            "epoch=61\n",
            "current model with loss=2.2269052081420773 saved at ./model_wi_rnn.pth\n",
            "epoch=62\n",
            "current model with loss=2.2180110988069752 saved at ./model_wi_rnn.pth\n",
            "epoch=63\n",
            "current model with loss=2.203646656919698 saved at ./model_wi_rnn.pth\n",
            "epoch=64\n",
            "epoch=65\n",
            "current model with loss=2.197559778807593 saved at ./model_wi_rnn.pth\n",
            "epoch=66\n",
            "current model with loss=2.18884747536456 saved at ./model_wi_rnn.pth\n",
            "epoch=67\n",
            "current model with loss=2.1829634396756283 saved at ./model_wi_rnn.pth\n",
            "epoch=68\n",
            "current model with loss=2.1786892736544377 saved at ./model_wi_rnn.pth\n",
            "epoch=69\n",
            "Loss [epoch=69] = 2.17772010213039\n",
            "Train Sample +++++++++++++++++++++++++++++++++++++++++++++\n",
            "s  in .ortr ound . theniphal t tbon   e m  me   oused ctwhie . . omieporatostilavede rson lefiser inmode hoffon cond rd tis an trakilfon by on gindis tspebaltherne i ctathaced on  anrtorthrethe  oc  ty\n",
            "++++++++++++++++++++++++++++++++++++++++++++++++++++++++++\n",
            "current model with loss=2.17772010213039 saved at ./model_wi_rnn.pth\n",
            "epoch=70\n",
            "current model with loss=2.1678937732196246 saved at ./model_wi_rnn.pth\n",
            "epoch=71\n",
            "current model with loss=2.1580116211390887 saved at ./model_wi_rnn.pth\n",
            "epoch=72\n",
            "current model with loss=2.1552991358960263 saved at ./model_wi_rnn.pth\n",
            "epoch=73\n",
            "current model with loss=2.14928622030821 saved at ./model_wi_rnn.pth\n",
            "epoch=74\n",
            "epoch=75\n",
            "current model with loss=2.1340951851156893 saved at ./model_wi_rnn.pth\n",
            "epoch=76\n",
            "current model with loss=2.128554944132195 saved at ./model_wi_rnn.pth\n",
            "epoch=77\n",
            "current model with loss=2.114602078179844 saved at ./model_wi_rnn.pth\n",
            "epoch=78\n",
            "current model with loss=2.11129543722653 saved at ./model_wi_rnn.pth\n",
            "epoch=79\n",
            "Loss [epoch=79] = 2.0968618529741883\n",
            "Train Sample +++++++++++++++++++++++++++++++++++++++++++++\n",
            " asoup m. wentern   getin nuriomarotindsousspe  . reaye igintoninoby  thes sutafos tedtwhrtonge den .   .r nthes tonsthrre w lm  mbless.siewe bexref  l mend  tast r . isly mon t hes   mor   rumn m and \n",
            "++++++++++++++++++++++++++++++++++++++++++++++++++++++++++\n",
            "current model with loss=2.0968618529741883 saved at ./model_wi_rnn.pth\n",
            "epoch=80\n",
            "current model with loss=2.094268458788512 saved at ./model_wi_rnn.pth\n",
            "epoch=81\n",
            "epoch=82\n",
            "current model with loss=2.079660716604014 saved at ./model_wi_rnn.pth\n",
            "epoch=83\n",
            "current model with loss=2.068406156829146 saved at ./model_wi_rnn.pth\n",
            "epoch=84\n",
            "current model with loss=2.064988371778707 saved at ./model_wi_rnn.pth\n",
            "epoch=85\n",
            "current model with loss=2.055394944597463 saved at ./model_wi_rnn.pth\n",
            "epoch=86\n",
            "current model with loss=2.052206368719945 saved at ./model_wi_rnn.pth\n",
            "epoch=87\n",
            "current model with loss=2.0450528684209606 saved at ./model_wi_rnn.pth\n",
            "epoch=88\n",
            "current model with loss=2.0348775806974193 saved at ./model_wi_rnn.pth\n",
            "epoch=89\n",
            "Loss [epoch=89] = 2.0287839711689557\n",
            "Train Sample +++++++++++++++++++++++++++++++++++++++++++++\n",
            "em .i ories liliccathxomaf  t  in diesolerfierecliceetorubulion f  me t rof  ie   fe n wom checliredingloand hond t esorod anemile   lll es lteng th  te  in ouse dull. od t d  ommi  oninodam lyhe   e  \n",
            "++++++++++++++++++++++++++++++++++++++++++++++++++++++++++\n",
            "current model with loss=2.0287839711689557 saved at ./model_wi_rnn.pth\n",
            "epoch=90\n",
            "current model with loss=2.012025881009024 saved at ./model_wi_rnn.pth\n",
            "epoch=91\n",
            "current model with loss=2.0041925555369895 saved at ./model_wi_rnn.pth\n",
            "epoch=92\n",
            "current model with loss=1.9916191101074219 saved at ./model_wi_rnn.pth\n",
            "epoch=93\n",
            "current model with loss=1.9771868127291319 saved at ./model_wi_rnn.pth\n",
            "epoch=94\n",
            "epoch=95\n",
            "current model with loss=1.9754237141765532 saved at ./model_wi_rnn.pth\n",
            "epoch=96\n",
            "current model with loss=1.9621130638435238 saved at ./model_wi_rnn.pth\n",
            "epoch=97\n",
            "current model with loss=1.9536192593027333 saved at ./model_wi_rnn.pth\n",
            "epoch=98\n",
            "current model with loss=1.9400435060751242 saved at ./model_wi_rnn.pth\n",
            "epoch=99\n",
            "Loss [epoch=99] = 1.9316932783752192\n",
            "Train Sample +++++++++++++++++++++++++++++++++++++++++++++\n",
            "  thentochare ricud . hed rel  tederofond  dodis omift lome    ssindilandstitorued mev d s of ddign henfiercouboomarty s  wilorereayeshom  pe    om  g we  on of    o cod    oind ondoin den wof me  cent\n",
            "++++++++++++++++++++++++++++++++++++++++++++++++++++++++++\n",
            "current model with loss=1.9316932783752192 saved at ./model_wi_rnn.pth\n"
          ]
        }
      ],
      "source": [
        "rnn_wi_losses = train_rnn(wi_data, wi_data_size, './model_wi_rnn.pth')"
      ]
    },
    {
      "cell_type": "markdown",
      "metadata": {
        "id": "iI8hukxjfc0g"
      },
      "source": [
        "### LSTM"
      ]
    },
    {
      "cell_type": "code",
      "execution_count": 34,
      "metadata": {
        "id": "b5KmatWPhUYB",
        "colab": {
          "base_uri": "https://localhost:8080/"
        },
        "outputId": "c95924a3-9699-455a-b1ef-57a6646a3f01"
      },
      "outputs": [
        {
          "output_type": "stream",
          "name": "stdout",
          "text": [
            "epoch=0\n",
            "current model with loss=2.765177064254636 saved at ./model_wi_lstm.pth\n",
            "epoch=1\n",
            "current model with loss=2.4869486464828743 saved at ./model_wi_lstm.pth\n",
            "epoch=2\n",
            "current model with loss=2.4286629821433396 saved at ./model_wi_lstm.pth\n",
            "epoch=3\n",
            "current model with loss=2.3936734375406483 saved at ./model_wi_lstm.pth\n",
            "epoch=4\n",
            "current model with loss=2.370305915347865 saved at ./model_wi_lstm.pth\n",
            "epoch=5\n",
            "current model with loss=2.3500055856392033 saved at ./model_wi_lstm.pth\n",
            "epoch=6\n",
            "current model with loss=2.324465608987652 saved at ./model_wi_lstm.pth\n",
            "epoch=7\n",
            "current model with loss=2.2888159341499454 saved at ./model_wi_lstm.pth\n",
            "epoch=8\n",
            "current model with loss=2.2492011433742087 saved at ./model_wi_lstm.pth\n",
            "epoch=9\n",
            "Loss [epoch=9] = 2.1894182748481876\n",
            "Train Sample +++++++++++++++++++++++++++++++++++++++++++++\n",
            "d . ck precanoprind d founa ltie od twh finexoonbs meve eefthedatralan is   wakioes  bar fangathe  fcantrenolle groth thenddisond ondeconghome wed . urecu reshofieison th wro fragig edetar allo itutite\n",
            "++++++++++++++++++++++++++++++++++++++++++++++++++++++++++\n",
            "current model with loss=2.1894182748481876 saved at ./model_wi_lstm.pth\n",
            "epoch=10\n",
            "current model with loss=2.10457169814188 saved at ./model_wi_lstm.pth\n",
            "epoch=11\n",
            "current model with loss=2.008090181428878 saved at ./model_wi_lstm.pth\n",
            "epoch=12\n",
            "current model with loss=1.876010856667503 saved at ./model_wi_lstm.pth\n",
            "epoch=13\n",
            "current model with loss=1.730841052336771 saved at ./model_wi_lstm.pth\n",
            "epoch=14\n",
            "current model with loss=1.5796662334535942 saved at ./model_wi_lstm.pth\n",
            "epoch=15\n",
            "current model with loss=1.4360001634378903 saved at ./model_wi_lstm.pth\n",
            "epoch=16\n",
            "current model with loss=1.3108098213789894 saved at ./model_wi_lstm.pth\n",
            "epoch=17\n",
            "current model with loss=1.1633115923795543 saved at ./model_wi_lstm.pth\n",
            "epoch=18\n",
            "current model with loss=1.019600795429261 saved at ./model_wi_lstm.pth\n",
            "epoch=19\n",
            "Loss [epoch=19] = 0.8613079385679276\n",
            "Train Sample +++++++++++++++++++++++++++++++++++++++++++++\n",
            "s  fedstit ckes tsonyond d  d ted tthat  tect wectinonot o it meashe  wonche  wn sthamy ethashericeth ckeralfaveep cth ug . cofinnecotrus sond athtomoct ffof as  ty t byuan .  ashrthahicke bythasoy bel\n",
            "++++++++++++++++++++++++++++++++++++++++++++++++++++++++++\n",
            "current model with loss=0.8613079385679276 saved at ./model_wi_lstm.pth\n",
            "epoch=20\n",
            "current model with loss=0.7483405373135551 saved at ./model_wi_lstm.pth\n",
            "epoch=21\n",
            "current model with loss=0.6608106078671627 saved at ./model_wi_lstm.pth\n",
            "epoch=22\n",
            "current model with loss=0.5740681505594097 saved at ./model_wi_lstm.pth\n",
            "epoch=23\n",
            "current model with loss=0.48296512052661084 saved at ./model_wi_lstm.pth\n",
            "epoch=24\n",
            "current model with loss=0.43003263849703993 saved at ./model_wi_lstm.pth\n",
            "epoch=25\n",
            "current model with loss=0.3828401455625159 saved at ./model_wi_lstm.pth\n",
            "epoch=26\n",
            "current model with loss=0.3604932360228945 saved at ./model_wi_lstm.pth\n",
            "epoch=27\n",
            "current model with loss=0.3107540652644439 saved at ./model_wi_lstm.pth\n",
            "epoch=28\n",
            "current model with loss=0.2905741084794529 saved at ./model_wi_lstm.pth\n",
            "epoch=29\n",
            "Loss [epoch=29] = 0.2749326958275232\n",
            "Train Sample +++++++++++++++++++++++++++++++++++++++++++++\n",
            "erdd twitonin th  y tr tumbrtorungun d oy n  ced  grembe wofod  woacst fre atongrues cesedenconit  le  thewe ele  geped comariapord che cro aroce sstesecct vectavelothe wese s t tug wey ty e he  ts ing\n",
            "++++++++++++++++++++++++++++++++++++++++++++++++++++++++++\n",
            "current model with loss=0.2749326958275232 saved at ./model_wi_lstm.pth\n",
            "epoch=30\n",
            "current model with loss=0.25360334664583206 saved at ./model_wi_lstm.pth\n",
            "epoch=31\n",
            "epoch=32\n",
            "current model with loss=0.25049279672933406 saved at ./model_wi_lstm.pth\n",
            "epoch=33\n",
            "current model with loss=0.23233873403218927 saved at ./model_wi_lstm.pth\n",
            "epoch=34\n",
            "current model with loss=0.2161269503050163 saved at ./model_wi_lstm.pth\n",
            "epoch=35\n",
            "current model with loss=0.21589474990719654 saved at ./model_wi_lstm.pth\n",
            "epoch=36\n",
            "current model with loss=0.21400395188419546 saved at ./model_wi_lstm.pth\n",
            "epoch=37\n",
            "current model with loss=0.2125113666301868 saved at ./model_wi_lstm.pth\n",
            "epoch=38\n",
            "epoch=39\n",
            "Loss [epoch=39] = 0.20721065143092735\n",
            "Train Sample +++++++++++++++++++++++++++++++++++++++++++++\n",
            "speve sffith t wn tomo w crth  s formand an    tse l heltid  thathe  we .  . f gratont cke ibutstesthe d erviepitingnat that   tt  lis  tickepitrind aromak bel     edad m thengr  anjan ly  tly wathat s\n",
            "++++++++++++++++++++++++++++++++++++++++++++++++++++++++++\n",
            "current model with loss=0.20721065143092735 saved at ./model_wi_lstm.pth\n",
            "epoch=40\n",
            "current model with loss=0.19773120378128817 saved at ./model_wi_lstm.pth\n",
            "epoch=41\n",
            "epoch=42\n",
            "current model with loss=0.19547242494147332 saved at ./model_wi_lstm.pth\n",
            "epoch=43\n",
            "epoch=44\n",
            "current model with loss=0.19788507772151565 saved at ./model_wi_lstm.pth\n",
            "epoch=45\n",
            "epoch=46\n",
            "current model with loss=0.2152176832200074 saved at ./model_wi_lstm.pth\n",
            "epoch=47\n",
            "current model with loss=0.21051399073884136 saved at ./model_wi_lstm.pth\n",
            "epoch=48\n",
            "current model with loss=0.20044963580907368 saved at ./model_wi_lstm.pth\n",
            "epoch=49\n",
            "Loss [epoch=49] = 0.19523943569816526\n",
            "Train Sample +++++++++++++++++++++++++++++++++++++++++++++\n",
            "twirle t afofin . titeve borora hal  hrag t  heiched radethact  tr ion thas t as thathistrmerillonuns sumomaninilunadroclathed ch t fes by wnit tratherenthan     shry te   worthedsf r f  pr . th  g ato\n",
            "++++++++++++++++++++++++++++++++++++++++++++++++++++++++++\n",
            "current model with loss=0.19523943569816526 saved at ./model_wi_lstm.pth\n",
            "epoch=50\n",
            "epoch=51\n",
            "epoch=52\n",
            "epoch=53\n",
            "current model with loss=0.19169826842233784 saved at ./model_wi_lstm.pth\n",
            "epoch=54\n",
            "current model with loss=0.190155492881771 saved at ./model_wi_lstm.pth\n",
            "epoch=55\n",
            "current model with loss=0.18933159473245262 saved at ./model_wi_lstm.pth\n",
            "epoch=56\n",
            "epoch=57\n",
            "epoch=58\n",
            "current model with loss=0.19043876102469007 saved at ./model_wi_lstm.pth\n",
            "epoch=59\n",
            "Loss [epoch=59] = 0.1935167076890586\n",
            "Train Sample +++++++++++++++++++++++++++++++++++++++++++++\n",
            " ang n d   mign twh memace  .  wato itond athe  we hede wn bes tisiggumeen t mis pet    mpo . . lt th al  tenth tuinth ad s     fatethe  wedisils  gomallfind t akis omanin ar wapreed aver thend . theno\n",
            "++++++++++++++++++++++++++++++++++++++++++++++++++++++++++\n",
            "epoch=60\n",
            "current model with loss=0.1832600284795292 saved at ./model_wi_lstm.pth\n",
            "epoch=61\n",
            "epoch=62\n",
            "current model with loss=0.18299303264891514 saved at ./model_wi_lstm.pth\n",
            "epoch=63\n",
            "current model with loss=0.17810538069146578 saved at ./model_wi_lstm.pth\n",
            "epoch=64\n",
            "epoch=65\n",
            "current model with loss=0.18322324557382552 saved at ./model_wi_lstm.pth\n",
            "epoch=66\n",
            "epoch=67\n",
            "epoch=68\n",
            "epoch=69\n",
            "Loss [epoch=69] = 0.20131313312249105\n",
            "Train Sample +++++++++++++++++++++++++++++++++++++++++++++\n",
            "al  ini ithef ine al  lunitiere  wofinmiche athatuig bed m   re rof aredeag uthe  ndararick fixeaco wind jar   alorexte  iede mawhale ay avingname  ngava  are ay erabus awatalinjed abconin ted  thamint\n",
            "++++++++++++++++++++++++++++++++++++++++++++++++++++++++++\n",
            "current model with loss=0.20131313312249105 saved at ./model_wi_lstm.pth\n",
            "epoch=70\n",
            "epoch=71\n",
            "current model with loss=0.2032407499605515 saved at ./model_wi_lstm.pth\n",
            "epoch=72\n",
            "epoch=73\n",
            "current model with loss=0.19797743325594996 saved at ./model_wi_lstm.pth\n",
            "epoch=74\n",
            "epoch=75\n",
            "current model with loss=0.19868018389603154 saved at ./model_wi_lstm.pth\n",
            "epoch=76\n",
            "epoch=77\n",
            "epoch=78\n",
            "current model with loss=0.1876064661096354 saved at ./model_wi_lstm.pth\n",
            "epoch=79\n",
            "Loss [epoch=79] = 0.18281645016347775\n",
            "Train Sample +++++++++++++++++++++++++++++++++++++++++++++\n",
            "rthe  wnier ass .  touaviensthast agutor ratind as heamet d . condis sioreas  thelen tithe  wes by wintn t th cal c .  th artis be sue ped testhame tmanin  tthastoro   orbe bororareareroorthache cont b\n",
            "++++++++++++++++++++++++++++++++++++++++++++++++++++++++++\n",
            "current model with loss=0.18281645016347775 saved at ./model_wi_lstm.pth\n",
            "epoch=80\n",
            "current model with loss=0.1806296102214055 saved at ./model_wi_lstm.pth\n",
            "epoch=81\n",
            "epoch=82\n",
            "epoch=83\n",
            "epoch=84\n",
            "epoch=85\n",
            "epoch=86\n",
            "current model with loss=0.19372972186471596 saved at ./model_wi_lstm.pth\n",
            "epoch=87\n",
            "current model with loss=0.1926289153453268 saved at ./model_wi_lstm.pth\n",
            "epoch=88\n",
            "epoch=89\n",
            "Loss [epoch=89] = 0.18386403868188622\n",
            "Train Sample +++++++++++++++++++++++++++++++++++++++++++++\n",
            "n s ton  ithe  ng funjan e  wahed m bonted m tha  oreveas  thathame mevin ed luaie tofindinted  fo   al al cothe  bue  le  he th al .  fore a o i i m esthay e    wimer ades gt  liguthe   . s    a heled\n",
            "++++++++++++++++++++++++++++++++++++++++++++++++++++++++++\n",
            "current model with loss=0.18386403868188622 saved at ./model_wi_lstm.pth\n",
            "epoch=90\n",
            "epoch=91\n",
            "epoch=92\n",
            "epoch=93\n",
            "epoch=94\n",
            "current model with loss=0.19175492007224287 saved at ./model_wi_lstm.pth\n",
            "epoch=95\n",
            "current model with loss=0.1888907629935468 saved at ./model_wi_lstm.pth\n",
            "epoch=96\n",
            "epoch=97\n",
            "current model with loss=0.18610823013987698 saved at ./model_wi_lstm.pth\n",
            "epoch=98\n",
            "epoch=99\n",
            "Loss [epoch=99] = 0.19177386158558188\n",
            "Train Sample +++++++++++++++++++++++++++++++++++++++++++++\n",
            "o ed acofin d umay .  thoin.  . th al . f brie onchast t fininofonis  he th arthe sthas ted o he  ysa   ed tere ed  ulercoritus than      t sitixodiest so a a  med our ched o gan ed . . th trag twk .  \n",
            "++++++++++++++++++++++++++++++++++++++++++++++++++++++++++\n",
            "current model with loss=0.19177386158558188 saved at ./model_wi_lstm.pth\n"
          ]
        }
      ],
      "source": [
        "lstm_wi_losses = train_lstm(wi_data, wi_data_size, './model_wi_lstm.pth')"
      ]
    },
    {
      "cell_type": "markdown",
      "metadata": {
        "id": "s4EDmKGTOTaQ"
      },
      "source": [
        "## Finetuning by Shakespeare"
      ]
    },
    {
      "cell_type": "markdown",
      "metadata": {
        "id": "J99viDjUqxUz"
      },
      "source": [
        "- Define the following functions to use the previous model as a pre-trained model and fine-tunes it using Shakespeare's plays dataset with lower learning rate."
      ]
    },
    {
      "cell_type": "code",
      "execution_count": 35,
      "metadata": {
        "id": "FKa2cGcVjRje"
      },
      "outputs": [],
      "source": [
        "def finetune_rnn(data, data_size, model_save_file, model_pretrained_path):\n",
        "    # RNN parameters\n",
        "    hidden_size = 512\n",
        "    num_layers = 6\n",
        "    lr = 0.001\n",
        "    epoch_num = 100\n",
        "    losses = []\n",
        "\n",
        "    ####################################\n",
        "    ######### Your code begins #########\n",
        "    ####################################\n",
        "    # In this section finetune the model that trained by wikipedia dataset with Shakespeare plays dataset\n",
        "    model = RNN(input_size=vocab_size, output_size=vocab_size, hidden_size=hidden_size, num_layers=num_layers, dropout_enable=False)\n",
        "    model = model.to(device)\n",
        "\n",
        "    # Load the pre-trained weights\n",
        "    model.load_model(model_pretrained_path)\n",
        "\n",
        "    optimizer = torch.optim.Adam(model.parameters(), lr=lr)\n",
        "\n",
        "    for epoch in range(epoch_num):\n",
        "        loss = train_epoch(model, data, data_size, epoch, optimizer)\n",
        "        losses.append(loss)\n",
        "\n",
        "    # Save the fine-tuned model\n",
        "    model.save_model(model_save_file)\n",
        "    ####################################\n",
        "    ######### Your code ends ###########\n",
        "    ####################################\n",
        "\n",
        "    return losses"
      ]
    },
    {
      "cell_type": "code",
      "execution_count": 36,
      "metadata": {
        "id": "ijG0lP75lHfm"
      },
      "outputs": [],
      "source": [
        "def finetune_lstm(data, data_size, model_save_file, model_pretrained_path):\n",
        "    # LSTM parameters\n",
        "    hidden_size = 512\n",
        "    num_layers = 3\n",
        "    lr = 0.001\n",
        "    epoch_num = 100\n",
        "    losses = []\n",
        "\n",
        "    ####################################\n",
        "    ######### Your code begins #########\n",
        "    ####################################\n",
        "    # In this section finetune the model that trained by wikipedia dataset with Shakespeare plays dataset\n",
        "    # Create LSTM model\n",
        "    model = LSTM(input_size=vocab_size, output_size=vocab_size, hidden_size=hidden_size, num_layers=num_layers, dropout_enable=False)\n",
        "    model = model.to(device)\n",
        "\n",
        "    # Load the pre-trained weights\n",
        "    model.load_model(model_pretrained_path)\n",
        "\n",
        "    optimizer = torch.optim.Adam(model.parameters(), lr=lr)\n",
        "\n",
        "    for epoch in range(epoch_num):\n",
        "        loss = train_epoch(model, data, data_size, epoch, optimizer)\n",
        "        losses.append(loss)\n",
        "\n",
        "    # Save the fine-tuned model\n",
        "    model.save_model(model_save_file)\n",
        "    ####################################\n",
        "    ######### Your code ends ###########\n",
        "    ####################################\n",
        "\n",
        "    return losses"
      ]
    },
    {
      "cell_type": "markdown",
      "metadata": {
        "id": "wwqLT0A0mSuo"
      },
      "source": [
        "### RNN"
      ]
    },
    {
      "cell_type": "code",
      "execution_count": 37,
      "metadata": {
        "id": "DixZCVqZmV8I",
        "colab": {
          "base_uri": "https://localhost:8080/"
        },
        "outputId": "776e1baa-4826-4f40-a908-d03dcb5b418e"
      },
      "outputs": [
        {
          "output_type": "stream",
          "name": "stdout",
          "text": [
            "Loss [epoch=9] = 2.1707068847285376\n",
            "Train Sample +++++++++++++++++++++++++++++++++++++++++++++\n",
            "e chigocopeu avoworo thowe e iss mmid d se th urs y otnupageeere bemcien wawiun athaudeanonomed\n",
            " coverenessth fof te ped ce rt le amee asenir ad. she berchillout irnthesthatithe anor mse broranthearhen\n",
            "++++++++++++++++++++++++++++++++++++++++++++++++++++++++++\n",
            "Loss [epoch=19] = 1.804780489868588\n",
            "Train Sample +++++++++++++++++++++++++++++++++++++++++++++\n",
            "noreiuthe d mmen wina d\n",
            "m\n",
            "br\n",
            "s ans f amaniotinirme: coe d inrct s by gh f \n",
            "tis\n",
            "fachareyess ak ppe rand\n",
            "prons nd cia me iuranik \n",
            "ld tomalld o ethobyothens whalyende e\n",
            "ad my gomeco chthee hind ar s\n",
            "ionin\n",
            "++++++++++++++++++++++++++++++++++++++++++++++++++++++++++\n",
            "Loss [epoch=29] = 1.5068895932700899\n",
            "Train Sample +++++++++++++++++++++++++++++++++++++++++++++\n",
            "llidethatiul te gimale at athationof\n",
            "pry te thernse g\n",
            "imathal oeano me pf ck se t le a: ces b:\n",
            "red\n",
            "pe nedgouel lg ct y thay t towerne amatoug cacene mad bbrert ga bemoo codonousuthetheref\n",
            "llirsour t th\n",
            "++++++++++++++++++++++++++++++++++++++++++++++++++++++++++\n",
            "Loss [epoch=39] = 1.2284692699710529\n",
            "Train Sample +++++++++++++++++++++++++++++++++++++++++++++\n",
            "eanthcolapge. whe f therare ye co p i anoue imatonist tiu and. atanisay the then t orino:\n",
            "setoutousuawhe ione ours owefthe he t largiuf bothan pescid thie\n",
            "veeressoue peschiusody mus i f ak th s cas tha\n",
            "++++++++++++++++++++++++++++++++++++++++++++++++++++++++++\n",
            "Loss [epoch=49] = 1.0040710353189044\n",
            "Train Sample +++++++++++++++++++++++++++++++++++++++++++++\n",
            "are itr gerd adom md peathe r comblfenche f ise ff g ised at\n",
            "a:d\n",
            "y lace tealanendsthe thy g brtheeavoulthe henen be ine ofr:\n",
            "one tustysigeres t:\n",
            "ak the the  m othince imed\n",
            "pinthiynde bld ai ghe t\n",
            "the t\n",
            "++++++++++++++++++++++++++++++++++++++++++++++++++++++++++\n",
            "Loss [epoch=59] = 0.7370631098747253\n",
            "Train Sample +++++++++++++++++++++++++++++++++++++++++++++\n",
            " mevs\n",
            "turd s:\n",
            "fomeman fven thayouruthe hrestus aithy hen ran r y ce\n",
            "bevan he our sers\n",
            "t \n",
            "f m t the iov\n",
            "len:ouene athildebuangir thatiubhen n s:imatheplt tiueuenv in t see te in ouss pr\n",
            "\n",
            "mane trsthe the\n",
            "++++++++++++++++++++++++++++++++++++++++++++++++++++++++++\n",
            "Loss [epoch=69] = 0.5880693602893088\n",
            "Train Sample +++++++++++++++++++++++++++++++++++++++++++++\n",
            "of the the sthea me thindimorgone tsous t e himanillinthend\n",
            "aby of ticherouara:ore ercitorare\n",
            "mandaneche\n",
            "finod ths s\n",
            "iss cohe ionimou nd gn che the tistoroun\n",
            "t st s tha me de t:\n",
            "ffot a arcik the our s:\n",
            "++++++++++++++++++++++++++++++++++++++++++++++++++++++++++\n",
            "Loss [epoch=79] = 0.46238038688898087\n",
            "Train Sample +++++++++++++++++++++++++++++++++++++++++++++\n",
            "lashing r\n",
            "ire\n",
            "\n",
            "fomed\n",
            "\n",
            "atohecircid\n",
            "thy\n",
            "\n",
            "cangi f a:e s:\n",
            "\n",
            "r wiup mrione t d s:\n",
            "puli ay adiarius t thest t\n",
            "\n",
            "dercodorecis hememat me thio\n",
            "cr\n",
            "athed winswnt ansty\n",
            "ad w\n",
            "man peate yoeth tusout t thay w\n",
            "d tistom\n",
            "++++++++++++++++++++++++++++++++++++++++++++++++++++++++++\n",
            "Loss [epoch=89] = 0.37353859862519634\n",
            "Train Sample +++++++++++++++++++++++++++++++++++++++++++++\n",
            "ganaly\n",
            "he ce\n",
            "we chathertyonengy t cthe reronourerd\n",
            "fus anof wust\n",
            "achakhit f thayolsthouls fa ar s p tilye arnewe t fo imatha  ma iu anomnsherar t werding where ous se fimathepld: co chetiuso mimatha ar\n",
            "++++++++++++++++++++++++++++++++++++++++++++++++++++++++++\n",
            "Loss [epoch=99] = 0.3340444134341346\n",
            "Train Sample +++++++++++++++++++++++++++++++++++++++++++++\n",
            " pre ffof cers\n",
            "mema iupecogan ch t fote hed\n",
            "cotho tss ted th arengome tory memcthy d t anoulucothin thioared m\n",
            "t whe the the the imathe stiusoven tercir t anustunn wierchiule ffo mafilolo iu\n",
            "mins man p\n",
            "++++++++++++++++++++++++++++++++++++++++++++++++++++++++++\n"
          ]
        }
      ],
      "source": [
        "rnn_sh_finetune_losses = finetune_rnn(sh_data, sh_data_size, './model_sh_finetune_rnn.pth', './model_wi_rnn.pth')"
      ]
    },
    {
      "cell_type": "markdown",
      "metadata": {
        "id": "By2oc0qlmUeq"
      },
      "source": [
        "### LSTM"
      ]
    },
    {
      "cell_type": "code",
      "execution_count": 38,
      "metadata": {
        "id": "m5tlC-O6nJdv",
        "colab": {
          "base_uri": "https://localhost:8080/"
        },
        "outputId": "fc746ec4-d75b-4bde-91ce-fefc8428840f"
      },
      "outputs": [
        {
          "output_type": "stream",
          "name": "stdout",
          "text": [
            "Loss [epoch=9] = 1.0464529560671911\n",
            "Train Sample +++++++++++++++++++++++++++++++++++++++++++++\n",
            "sul\n",
            "miuve acabbuma murumato ouls\n",
            "\n",
            "we hil whilllllllavisoullr. f brr siuse erisonds thicethicarin h go uniun\n",
            " malth: sus:\n",
            "\n",
            "us i he figiuifren athe lele the veve m the tor m yor yofi wholed m buryey keth\n",
            "++++++++++++++++++++++++++++++++++++++++++++++++++++++++++\n",
            "Loss [epoch=19] = 0.28446573784781826\n",
            "Train Sample +++++++++++++++++++++++++++++++++++++++++++++\n",
            "iol bollfi h.\n",
            "ld witi o iere the me ucoos owern m\n",
            ":\n",
            ".\n",
            ":\n",
            "dindear waf aue\n",
            "n lfomst f mommatoronenoselased lden we te te:\n",
            "elod wif arit.\n",
            "ar th latheson\n",
            "f ao p.\n",
            "fie\n",
            "swhno hen athey winviff y wn d\n",
            "swhe meva\n",
            "++++++++++++++++++++++++++++++++++++++++++++++++++++++++++\n",
            "Loss [epoch=29] = 0.12201122670537895\n",
            "Train Sample +++++++++++++++++++++++++++++++++++++++++++++\n",
            "t petothinenl m iume cie m n be d\n",
            "y tinghinvimer be s oomy d re oto y bliethouse.\n",
            "nconis yo omomas: abr fiad shen athe otive fo whir mns t th t th ed bthir m\n",
            "athes t wauranis outit de fir pborestor cas\n",
            "++++++++++++++++++++++++++++++++++++++++++++++++++++++++++\n",
            "Loss [epoch=39] = 0.08677754401125842\n",
            "Train Sample +++++++++++++++++++++++++++++++++++++++++++++\n",
            ". wherin.\n",
            "this:\n",
            "\n",
            "goratro ters t wavake\n",
            "rvo thendinoulase be m the torse h pplt mbenof lis yole mey hinof d oner hingil s ayof ms sple al s f m rn thes t th hes\n",
            "oryou mavetamer anksutte banoorthes ithou\n",
            "++++++++++++++++++++++++++++++++++++++++++++++++++++++++++\n",
            "Loss [epoch=49] = 0.08809941484489375\n",
            "Train Sample +++++++++++++++++++++++++++++++++++++++++++++\n",
            " murese. ato machar ansevebe bon\n",
            " an out anibe theere owh llimollfim lfimy.\n",
            "thareyone yorcie outcotik herig t be tha:\n",
            "\n",
            "gea . hadulvearenacie hinces lsinye aucoulinouto f th fousey t theinchizercie hin:\n",
            "++++++++++++++++++++++++++++++++++++++++++++++++++++++++++\n",
            "Loss [epoch=59] = 0.08663441799581051\n",
            "Train Sample +++++++++++++++++++++++++++++++++++++++++++++\n",
            " th t tire ar he fiat he fik\n",
            "we: hor yoled tha histyofanasheianol ily outiur s:y s s: m nd tha hountinin\n",
            "\n",
            "m anofi mene tourer\n",
            "\n",
            "at d wse finds.\n",
            "dilds t tis reld molest inoulie\n",
            "\n",
            "wone hinoune \n",
            "\n",
            "winthed ur\n",
            "++++++++++++++++++++++++++++++++++++++++++++++++++++++++++\n",
            "Loss [epoch=69] = 0.06823586008977145\n",
            "Train Sample +++++++++++++++++++++++++++++++++++++++++++++\n",
            "t t t\n",
            "th thund ioraciscothe pe thas: tomor he fia ipsthen t s ots all or\n",
            "\n",
            "\n",
            "\n",
            "t\n",
            "\n",
            "fin\n",
            "e hendir hi s os nt blber nd:s he t:\n",
            " m t s.\n",
            "te thef thed w w fuss ty iee s ou mendils t wnis blyonirithenl wan. buli \n",
            "++++++++++++++++++++++++++++++++++++++++++++++++++++++++++\n",
            "Loss [epoch=79] = 0.07920581467139225\n",
            "Train Sample +++++++++++++++++++++++++++++++++++++++++++++\n",
            "e t heatouren he poour\n",
            "\n",
            "soule mendilarelllior\n",
            "\n",
            "wn tilsh f bunus t i\n",
            "ore cky boule onermia is siferthal yorithus t thor pre hiner vey ser haeerayope inwindeves\n",
            "fro theat t th thes:\n",
            "y d t s sthe plin: ld\n",
            "++++++++++++++++++++++++++++++++++++++++++++++++++++++++++\n",
            "Loss [epoch=89] = 0.06766472465824336\n",
            "Train Sample +++++++++++++++++++++++++++++++++++++++++++++\n",
            "limou wheneri they chize hinsthomare a:oow anot wispeizs: f i rs si\n",
            "\n",
            "\n",
            "n outius nd wef pier:\n",
            "l one be t d rell gofe s althery\n",
            "n t theag ver ie\n",
            "y wal honld wilish onen ounid ots ds:e t ats.\n",
            "we terig hino\n",
            "++++++++++++++++++++++++++++++++++++++++++++++++++++++++++\n",
            "Loss [epoch=99] = 0.05855425226036459\n",
            "Train Sample +++++++++++++++++++++++++++++++++++++++++++++\n",
            "ndiuse h one unit st\n",
            "winof\n",
            "iueyoulens ch therd thinghed ble m nd tha therd ind uene\n",
            "he the our he fomathee hee loneve r\n",
            "mir ckis byotolest lsourinthd ul pr shefrbe mine alenans rt iu\n",
            "ithoy be the tor h\n",
            "++++++++++++++++++++++++++++++++++++++++++++++++++++++++++\n"
          ]
        }
      ],
      "source": [
        "lstm_sh_finetune_losses = finetune_lstm(sh_data, sh_data_size, './model_sh_finetune_lstm.pth', './model_wi_lstm.pth')"
      ]
    },
    {
      "cell_type": "markdown",
      "metadata": {
        "id": "gPr9aM-COlGM"
      },
      "source": [
        "## Plotting Losses"
      ]
    },
    {
      "cell_type": "code",
      "execution_count": 39,
      "metadata": {
        "id": "seWKCPaCnQ2N"
      },
      "outputs": [],
      "source": [
        "def plot_losses_together(losses1, losses2):\n",
        "    xpoints = np.array(range(len(losses1)))\n",
        "    ypoints1 = np.array(losses1)\n",
        "    ypoints2 = np.array(losses2)\n",
        "\n",
        "    plt.plot(xpoints, ypoints1, color='blue',label='base_losses' )\n",
        "    plt.plot(xpoints, ypoints2, color='red',label='finetune_losses' )\n",
        "    plt.xlabel(\"epoch\")\n",
        "    plt.ylabel(\"loss\")\n",
        "    plt.legend()\n",
        "    plt.show()"
      ]
    },
    {
      "cell_type": "markdown",
      "metadata": {
        "id": "pl3ao3hXnne2"
      },
      "source": [
        "### RNN"
      ]
    },
    {
      "cell_type": "code",
      "execution_count": 42,
      "metadata": {
        "id": "oCiLrTAahpTr",
        "colab": {
          "base_uri": "https://localhost:8080/",
          "height": 452
        },
        "outputId": "a9382be3-f4e2-4eec-b65a-c25ceb38800f"
      },
      "outputs": [
        {
          "output_type": "display_data",
          "data": {
            "text/plain": [
              "<Figure size 640x480 with 1 Axes>"
            ],
            "image/png": "[encoded data removed]"
          },
          "metadata": {}
        }
      ],
      "source": [
        "plot_losses_together(rnn_sh_losses[1:], rnn_sh_finetune_losses)"
      ]
    },
    {
      "cell_type": "markdown",
      "metadata": {
        "id": "kGI_uZZhnpdF"
      },
      "source": [
        "### LSTM"
      ]
    },
    {
      "cell_type": "code",
      "execution_count": 43,
      "metadata": {
        "id": "liBF6jxUnPpO",
        "colab": {
          "base_uri": "https://localhost:8080/",
          "height": 449
        },
        "outputId": "db357da3-e739-4847-cfad-2f3c4bce63e0"
      },
      "outputs": [
        {
          "output_type": "display_data",
          "data": {
            "text/plain": [
              "<Figure size 640x480 with 1 Axes>"
            ],
            "image/png": "[encoded data removed]"
          },
          "metadata": {}
        }
      ],
      "source": [
        "plot_losses_together(lstm_sh_losses[1:], lstm_sh_finetune_losses)"
      ]
    },
    {
      "cell_type": "markdown",
      "metadata": {
        "id": "_3bCGDXxOvGv"
      },
      "source": [
        "## Report"
      ]
    },
    {
      "cell_type": "markdown",
      "metadata": {
        "id": "SOiRxwHGnnag"
      },
      "source": [
        "As you can see, fine-tuning has an effect in improving the training of the main model.\n",
        "\n",
        "By analyzing the obtained results, state the advantage of finetuning after pre-training the model by public dataset, and compare its performance in different models"
      ]
    },
    {
      "cell_type": "markdown",
      "metadata": {
        "id": "NAEoxdCInnW-"
      },
      "source": [
        "<font color='#73FF73'><b>Your answer : </b></font>"
      ]
    },
    {
      "cell_type": "markdown",
      "metadata": {
        "id": "6mVIAlPZLjaw"
      },
      "source": [
        "----\n",
        "----"
      ]
    },
    {
      "cell_type": "markdown",
      "metadata": {
        "id": "L3RR1kMxnnUf"
      },
      "source": [
        "#3. Experiment on different datasets"
      ]
    },
    {
      "cell_type": "markdown",
      "metadata": {
        "id": "P7BcgGRrqBqz"
      },
      "source": [
        "In the previous section, you saw the performance results of the text generation model using the Shakespeare plays dataset. In the following, you will check the results of the LSTM model on the dialogues of the `Friends series`"
      ]
    },
    {
      "cell_type": "markdown",
      "metadata": {
        "id": "Wa54a7knq4N6"
      },
      "source": [
        "## Load dataset"
      ]
    },
    {
      "cell_type": "code",
      "execution_count": 44,
      "metadata": {
        "id": "u2XhR0uprKNF",
        "colab": {
          "base_uri": "https://localhost:8080/"
        },
        "outputId": "d31d7309-9031-4a68-d4e6-2f4a6f9684ab"
      },
      "outputs": [
        {
          "output_type": "stream",
          "name": "stdout",
          "text": [
            "--2023-12-06 21:26:34--  https://raw.githubusercontent.com/rfordatascience/tidytuesday/master/data/2020/2020-09-08/friends.csv\n",
            "Resolving raw.githubusercontent.com (raw.githubusercontent.com)... 185.199.110.133, 185.199.109.133, 185.199.108.133, ...\n",
            "Connecting to raw.githubusercontent.com (raw.githubusercontent.com)|185.199.110.133|:443... connected.\n",
            "HTTP request sent, awaiting response... 200 OK\n",
            "Length: 5383844 (5.1M) [text/plain]\n",
            "Saving to: ‘./data/Friends.csv’\n",
            "\n",
            "./data/Friends.csv  100%[===================>]   5.13M  --.-KB/s    in 0.08s   \n",
            "\n",
            "2023-12-06 21:26:35 (66.2 MB/s) - ‘./data/Friends.csv’ saved [5383844/5383844]\n",
            "\n"
          ]
        }
      ],
      "source": [
        "!wget https://raw.githubusercontent.com/rfordatascience/tidytuesday/master/data/2020/2020-09-08/friends.csv -O ./data/Friends.csv"
      ]
    },
    {
      "cell_type": "markdown",
      "metadata": {
        "id": "0X_z5mS3q7EN"
      },
      "source": [
        "## preprocessing"
      ]
    },
    {
      "cell_type": "code",
      "execution_count": 45,
      "metadata": {
        "id": "7IbK2Ean-l1w",
        "colab": {
          "base_uri": "https://localhost:8080/",
          "height": 206
        },
        "outputId": "3c82aa17-3d39-4e23-f25f-f80ad6562cff"
      },
      "outputs": [
        {
          "output_type": "execute_result",
          "data": {
            "text/plain": [
              "                                                text   speaker\n",
              "0  There's nothing to tell! He's just some guy I ...    Monica\n",
              "1  C'mon, you're going out with the guy! There's ...      Joey\n",
              "2  All right Joey, be nice. So does he have a hum...  Chandler\n",
              "3                           Wait, does he eat chalk?    Phoebe\n",
              "4                         (They all stare, bemused.)     Scene"
            ],
            "text/html": [
              "\n",
              "  <div id=\"df-c1b59d1d-7650-4bb6-9b5f-668dc3493d0b\" class=\"colab-df-container\">\n",
              "    <div>\n",
              "<style scoped>\n",
              "    .dataframe tbody tr th:only-of-type {\n",
              "        vertical-align: middle;\n",
              "    }\n",
              "\n",
              "    .dataframe tbody tr th {\n",
              "        vertical-align: top;\n",
              "    }\n",
              "\n",
              "    .dataframe thead th {\n",
              "        text-align: right;\n",
              "    }\n",
              "</style>\n",
              "<table border=\"1\" class=\"dataframe\">\n",
              "  <thead>\n",
              "    <tr style=\"text-align: right;\">\n",
              "      <th></th>\n",
              "      <th>text</th>\n",
              "      <th>speaker</th>\n",
              "    </tr>\n",
              "  </thead>\n",
              "  <tbody>\n",
              "    <tr>\n",
              "      <th>0</th>\n",
              "      <td>There's nothing to tell! He's just some guy I ...</td>\n",
              "      <td>Monica</td>\n",
              "    </tr>\n",
              "    <tr>\n",
              "      <th>1</th>\n",
              "      <td>C'mon, you're going out with the guy! There's ...</td>\n",
              "      <td>Joey</td>\n",
              "    </tr>\n",
              "    <tr>\n",
              "      <th>2</th>\n",
              "      <td>All right Joey, be nice. So does he have a hum...</td>\n",
              "      <td>Chandler</td>\n",
              "    </tr>\n",
              "    <tr>\n",
              "      <th>3</th>\n",
              "      <td>Wait, does he eat chalk?</td>\n",
              "      <td>Phoebe</td>\n",
              "    </tr>\n",
              "    <tr>\n",
              "      <th>4</th>\n",
              "      <td>(They all stare, bemused.)</td>\n",
              "      <td>Scene</td>\n",
              "    </tr>\n",
              "  </tbody>\n",
              "</table>\n",
              "</div>\n",
              "    <div class=\"colab-df-buttons\">\n",
              "\n",
              "  <div class=\"colab-df-container\">\n",
              "    <button class=\"colab-df-convert\" onclick=\"convertToInteractive('df-c1b59d1d-7650-4bb6-9b5f-668dc3493d0b')\"\n",
              "            title=\"Convert this dataframe to an interactive table.\"\n",
              "            style=\"display:none;\">\n",
              "\n",
              "  <svg xmlns=\"http://www.w3.org/2000/svg\" height=\"24px\" viewBox=\"0 -960 960 960\">\n",
              "    <path d=\"M120-120v-720h720v720H120Zm60-500h600v-160H180v160Zm220 220h160v-160H400v160Zm0 220h160v-160H400v160ZM180-400h160v-160H180v160Zm440 0h160v-160H620v160ZM180-180h160v-160H180v160Zm440 0h160v-160H620v160Z\"/>\n",
              "  </svg>\n",
              "    </button>\n",
              "\n",
              "  <style>\n",
              "    .colab-df-container {\n",
              "      display:flex;\n",
              "      gap: 12px;\n",
              "    }\n",
              "\n",
              "    .colab-df-convert {\n",
              "      background-color: #E8F0FE;\n",
              "      border: none;\n",
              "      border-radius: 50%;\n",
              "      cursor: pointer;\n",
              "      display: none;\n",
              "      fill: #1967D2;\n",
              "      height: 32px;\n",
              "      padding: 0 0 0 0;\n",
              "      width: 32px;\n",
              "    }\n",
              "\n",
              "    .colab-df-convert:hover {\n",
              "      background-color: #E2EBFA;\n",
              "      box-shadow: 0px 1px 2px rgba(60, 64, 67, 0.3), 0px 1px 3px 1px rgba(60, 64, 67, 0.15);\n",
              "      fill: #174EA6;\n",
              "    }\n",
              "\n",
              "    .colab-df-buttons div {\n",
              "      margin-bottom: 4px;\n",
              "    }\n",
              "\n",
              "    [theme=dark] .colab-df-convert {\n",
              "      background-color: #3B4455;\n",
              "      fill: #D2E3FC;\n",
              "    }\n",
              "\n",
              "    [theme=dark] .colab-df-convert:hover {\n",
              "      background-color: #434B5C;\n",
              "      box-shadow: 0px 1px 3px 1px rgba(0, 0, 0, 0.15);\n",
              "      filter: drop-shadow(0px 1px 2px rgba(0, 0, 0, 0.3));\n",
              "      fill: #FFFFFF;\n",
              "    }\n",
              "  </style>\n",
              "\n",
              "    <script>\n",
              "      const buttonEl =\n",
              "        document.querySelector('#df-c1b59d1d-7650-4bb6-9b5f-668dc3493d0b button.colab-df-convert');\n",
              "      buttonEl.style.display =\n",
              "        google.colab.kernel.accessAllowed ? 'block' : 'none';\n",
              "\n",
              "      async function convertToInteractive(key) {\n",
              "        const element = document.querySelector('#df-c1b59d1d-7650-4bb6-9b5f-668dc3493d0b');\n",
              "        const dataTable =\n",
              "          await google.colab.kernel.invokeFunction('convertToInteractive',\n",
              "                                                    [key], {});\n",
              "        if (!dataTable) return;\n",
              "\n",
              "        const docLinkHtml = 'Like what you see? Visit the ' +\n",
              "          '<a target=\"_blank\" href=https://colab.research.google.com/notebooks/data_table.ipynb>data table notebook</a>'\n",
              "          + ' to learn more about interactive tables.';\n",
              "        element.innerHTML = '';\n",
              "        dataTable['output_type'] = 'display_data';\n",
              "        await google.colab.output.renderOutput(dataTable, element);\n",
              "        const docLink = document.createElement('div');\n",
              "        docLink.innerHTML = docLinkHtml;\n",
              "        element.appendChild(docLink);\n",
              "      }\n",
              "    </script>\n",
              "  </div>\n",
              "\n",
              "\n",
              "<div id=\"df-a79441d5-9c35-4362-80a7-c5c6f1dd0de2\">\n",
              "  <button class=\"colab-df-quickchart\" onclick=\"quickchart('df-a79441d5-9c35-4362-80a7-c5c6f1dd0de2')\"\n",
              "            title=\"Suggest charts\"\n",
              "            style=\"display:none;\">\n",
              "\n",
              "<svg xmlns=\"http://www.w3.org/2000/svg\" height=\"24px\"viewBox=\"0 0 24 24\"\n",
              "     width=\"24px\">\n",
              "    <g>\n",
              "        <path d=\"M19 3H5c-1.1 0-2 .9-2 2v14c0 1.1.9 2 2 2h14c1.1 0 2-.9 2-2V5c0-1.1-.9-2-2-2zM9 17H7v-7h2v7zm4 0h-2V7h2v10zm4 0h-2v-4h2v4z\"/>\n",
              "    </g>\n",
              "</svg>\n",
              "  </button>\n",
              "\n",
              "<style>\n",
              "  .colab-df-quickchart {\n",
              "      --bg-color: #E8F0FE;\n",
              "      --fill-color: #1967D2;\n",
              "      --hover-bg-color: #E2EBFA;\n",
              "      --hover-fill-color: #174EA6;\n",
              "      --disabled-fill-color: #AAA;\n",
              "      --disabled-bg-color: #DDD;\n",
              "  }\n",
              "\n",
              "  [theme=dark] .colab-df-quickchart {\n",
              "      --bg-color: #3B4455;\n",
              "      --fill-color: #D2E3FC;\n",
              "      --hover-bg-color: #434B5C;\n",
              "      --hover-fill-color: #FFFFFF;\n",
              "      --disabled-bg-color: #3B4455;\n",
              "      --disabled-fill-color: #666;\n",
              "  }\n",
              "\n",
              "  .colab-df-quickchart {\n",
              "    background-color: var(--bg-color);\n",
              "    border: none;\n",
              "    border-radius: 50%;\n",
              "    cursor: pointer;\n",
              "    display: none;\n",
              "    fill: var(--fill-color);\n",
              "    height: 32px;\n",
              "    padding: 0;\n",
              "    width: 32px;\n",
              "  }\n",
              "\n",
              "  .colab-df-quickchart:hover {\n",
              "    background-color: var(--hover-bg-color);\n",
              "    box-shadow: 0 1px 2px rgba(60, 64, 67, 0.3), 0 1px 3px 1px rgba(60, 64, 67, 0.15);\n",
              "    fill: var(--button-hover-fill-color);\n",
              "  }\n",
              "\n",
              "  .colab-df-quickchart-complete:disabled,\n",
              "  .colab-df-quickchart-complete:disabled:hover {\n",
              "    background-color: var(--disabled-bg-color);\n",
              "    fill: var(--disabled-fill-color);\n",
              "    box-shadow: none;\n",
              "  }\n",
              "\n",
              "  .colab-df-spinner {\n",
              "    border: 2px solid var(--fill-color);\n",
              "    border-color: transparent;\n",
              "    border-bottom-color: var(--fill-color);\n",
              "    animation:\n",
              "      spin 1s steps(1) infinite;\n",
              "  }\n",
              "\n",
              "  @keyframes spin {\n",
              "    0% {\n",
              "      border-color: transparent;\n",
              "      border-bottom-color: var(--fill-color);\n",
              "      border-left-color: var(--fill-color);\n",
              "    }\n",
              "    20% {\n",
              "      border-color: transparent;\n",
              "      border-left-color: var(--fill-color);\n",
              "      border-top-color: var(--fill-color);\n",
              "    }\n",
              "    30% {\n",
              "      border-color: transparent;\n",
              "      border-left-color: var(--fill-color);\n",
              "      border-top-color: var(--fill-color);\n",
              "      border-right-color: var(--fill-color);\n",
              "    }\n",
              "    40% {\n",
              "      border-color: transparent;\n",
              "      border-right-color: var(--fill-color);\n",
              "      border-top-color: var(--fill-color);\n",
              "    }\n",
              "    60% {\n",
              "      border-color: transparent;\n",
              "      border-right-color: var(--fill-color);\n",
              "    }\n",
              "    80% {\n",
              "      border-color: transparent;\n",
              "      border-right-color: var(--fill-color);\n",
              "      border-bottom-color: var(--fill-color);\n",
              "    }\n",
              "    90% {\n",
              "      border-color: transparent;\n",
              "      border-bottom-color: var(--fill-color);\n",
              "    }\n",
              "  }\n",
              "</style>\n",
              "\n",
              "  <script>\n",
              "    async function quickchart(key) {\n",
              "      const quickchartButtonEl =\n",
              "        document.querySelector('#' + key + ' button');\n",
              "      quickchartButtonEl.disabled = true;  // To prevent multiple clicks.\n",
              "      quickchartButtonEl.classList.add('colab-df-spinner');\n",
              "      try {\n",
              "        const charts = await google.colab.kernel.invokeFunction(\n",
              "            'suggestCharts', [key], {});\n",
              "      } catch (error) {\n",
              "        console.error('Error during call to suggestCharts:', error);\n",
              "      }\n",
              "      quickchartButtonEl.classList.remove('colab-df-spinner');\n",
              "      quickchartButtonEl.classList.add('colab-df-quickchart-complete');\n",
              "    }\n",
              "    (() => {\n",
              "      let quickchartButtonEl =\n",
              "        document.querySelector('#df-a79441d5-9c35-4362-80a7-c5c6f1dd0de2 button');\n",
              "      quickchartButtonEl.style.display =\n",
              "        google.colab.kernel.accessAllowed ? 'block' : 'none';\n",
              "    })();\n",
              "  </script>\n",
              "</div>\n",
              "    </div>\n",
              "  </div>\n"
            ]
          },
          "metadata": {},
          "execution_count": 45
        }
      ],
      "source": [
        "friends = pd.read_csv('./data/Friends.csv')\n",
        "friends = friends.dropna()\n",
        "friends = friends[friends['speaker'].str.contains('SCENE')==False]\n",
        "friends['speaker'] = friends['speaker'].apply(lambda sp: sp.lower().capitalize().split(' ')[0])\n",
        "friends_texts = friends.drop(['episode','season','scene','utterance'], axis='columns')\n",
        "friends_texts.head()"
      ]
    },
    {
      "cell_type": "code",
      "execution_count": 46,
      "metadata": {
        "id": "mEaZR1jS-q_W"
      },
      "outputs": [],
      "source": [
        "f = open(\"./data/fiends.txt\", \"w\")\n",
        "for i,row in friends_texts.iterrows():\n",
        "    f.write(row['speaker'] + ':\\n' + row['text'] + '\\n\\n')\n",
        "\n",
        "f.close()"
      ]
    },
    {
      "cell_type": "code",
      "execution_count": 47,
      "metadata": {
        "id": "1SPBHV5u-62e"
      },
      "outputs": [],
      "source": [
        "fr_data_file = \"./data/fiends.txt\"\n",
        "fr_data = open(fr_data_file, 'r').read(30000)\n",
        "fr_data = remove_extraneous_characters(fr_data.lower(), chars)\n",
        "fr_data_size = len(fr_data)\n",
        "\n",
        "fr_data = list(fr_data)\n",
        "for i, ch in enumerate(fr_data):\n",
        "    fr_data[i] = char_to_ix[ch]\n",
        "\n",
        "fr_data = torch.tensor(fr_data).to(device)\n",
        "fr_data = torch.unsqueeze(fr_data, dim=1)"
      ]
    },
    {
      "cell_type": "markdown",
      "metadata": {
        "id": "6drMR6Gtq_jj"
      },
      "source": [
        "## Train finetuned LSTM by friends dataset"
      ]
    },
    {
      "cell_type": "code",
      "execution_count": 48,
      "metadata": {
        "id": "J7ruLz2r_O3r",
        "colab": {
          "base_uri": "https://localhost:8080/"
        },
        "outputId": "0542561c-28a2-4d89-e192-bf06728df22c"
      },
      "outputs": [
        {
          "output_type": "stream",
          "name": "stdout",
          "text": [
            "Loss [epoch=9] = 1.0821877558466415\n",
            "Train Sample +++++++++++++++++++++++++++++++++++++++++++++\n",
            "eves aveveok. f at wet lofinothed abutabo. t a:ist...\n",
            ":\n",
            "wng..\n",
            "nicef as th whe gotohisd:\n",
            "\n",
            " gut be toer jurexcaves atss:\n",
            "\n",
            "fowighooup tork anet the yofedet blecho tong an\n",
            "r ah yor kate.. ano ay.. l: ane b\n",
            "++++++++++++++++++++++++++++++++++++++++++++++++++++++++++\n",
            "Loss [epoch=19] = 0.27898472201236535\n",
            "Train Sample +++++++++++++++++++++++++++++++++++++++++++++\n",
            "wes l me a:\n",
            "t \n",
            "y.\n",
            "\n",
            "\n",
            ". t f oeoher ng pathe s cerni w \n",
            "nd t theas:\n",
            "\n",
            "\n",
            "\n",
            "iomo who g cot be ly t s to we wo anose l:\n",
            "\n",
            ":\n",
            "\n",
            "y hap ss:\n",
            "curand\n",
            "mowangtan marhe pot t.\n",
            "\n",
            "uringungar\n",
            "gros: t blore wau nn\n",
            "il:\n",
            "\n",
            "howherou\n",
            "++++++++++++++++++++++++++++++++++++++++++++++++++++++++++\n",
            "Loss [epoch=29] = 0.12478361766732915\n",
            "Train Sample +++++++++++++++++++++++++++++++++++++++++++++\n",
            "kak th r lo le s jum ichedyondl owa:\n",
            "rere d ifer w pr lou a:\n",
            "t w blvanot lonod t aloeore callou thas anth siss js wes me avebe s ht moy t s to incthesnour\n",
            " onoutidayoor: i theay cadono boonthealss t be\n",
            "++++++++++++++++++++++++++++++++++++++++++++++++++++++++++\n",
            "Loss [epoch=39] = 0.09040747567171782\n",
            "Train Sample +++++++++++++++++++++++++++++++++++++++++++++\n",
            "sey\n",
            "uthi fe cane cangephout bothhan st w d toichet blotanewhes on  t t wandout yonout t whame indu\n",
            "\n",
            "\n",
            "\n",
            "im t tera issous chedoutof de:\n",
            "d stt he otowi me tss fim ngont nknit lyothiy\n",
            "\n",
            "\n",
            "o wacaca:\n",
            "do o ke to\n",
            "++++++++++++++++++++++++++++++++++++++++++++++++++++++++++\n",
            "Loss [epoch=49] = 0.08537082723013951\n",
            "Train Sample +++++++++++++++++++++++++++++++++++++++++++++\n",
            "heag otor\n",
            "ndy\n",
            "f d st t cavee tan he:\n",
            "pan ind\n",
            "\n",
            "\n",
            "jonas l:inout k g t...\n",
            "\n",
            "pptha:\n",
            "\n",
            "\n",
            "rr:w womeas i baseyokey:\n",
            "\n",
            "\n",
            "res:\n",
            "\n",
            "\n",
            "is:\n",
            "\n",
            "\n",
            "r anebet y atuthewn is han al on..\n",
            "cury contrey\n",
            " mowhebercauri ndan y ondourorere\n",
            "++++++++++++++++++++++++++++++++++++++++++++++++++++++++++\n",
            "Loss [epoch=59] = 0.09813134154488504\n",
            "Train Sample +++++++++++++++++++++++++++++++++++++++++++++\n",
            "i may\n",
            "\n",
            "odea he to t pl l:\n",
            "\n",
            "\n",
            "ra:\n",
            "jul:jut mon\n",
            "\n",
            "\n",
            "\n",
            "m \n",
            "i y whes:\n",
            "f ereshanid th uros lis:\n",
            "\n",
            "os hat rkin tha auros i nicalabas\n",
            "\n",
            "canengere:\n",
            "in:\n",
            "\n",
            "mploreres\n",
            "\n",
            "\n",
            "\n",
            "\n",
            "ngeloe y t wive l g bi m.\n",
            "menge pandomouto.\n",
            "\n",
            "\n",
            "\n",
            "jac\n",
            "++++++++++++++++++++++++++++++++++++++++++++++++++++++++++\n",
            "Loss [epoch=69] = 0.07576250169478671\n",
            "Train Sample +++++++++++++++++++++++++++++++++++++++++++++\n",
            "ndo got hererireng a wat gha:\n",
            "\n",
            "rean whelet yod mad pppreyothimoullorea and.. ne so r butnerlore:\n",
            "lesindyaro.\n",
            "mo s...\n",
            "ce:\n",
            "\n",
            "\n",
            "res wontim..\n",
            "pl:\n",
            "\n",
            "\n",
            "m mmorandi youso ke pat...\n",
            "ce:\n",
            "t wind..\n",
            "chetsche\n",
            "ls.nit s i\n",
            "++++++++++++++++++++++++++++++++++++++++++++++++++++++++++\n",
            "Loss [epoch=79] = 0.06472494046557957\n",
            "Train Sample +++++++++++++++++++++++++++++++++++++++++++++\n",
            "th n meap au at wheas ha los:momporloreach nduney\n",
            "s f mommascot pp u m chostrellust t sig kngndoew mabauha  athasout athll:\n",
            "\n",
            "\n",
            "\n",
            "\n",
            "rerg hat lllll:\n",
            "\n",
            "\n",
            "\n",
            "c ead thth turanth t. kindfow heal s i gerillll.caloo \n",
            "++++++++++++++++++++++++++++++++++++++++++++++++++++++++++\n",
            "Loss [epoch=89] = 0.07534110834690887\n",
            "Train Sample +++++++++++++++++++++++++++++++++++++++++++++\n",
            "eas y ghe ts.. au wheseow bu y o wanth mad tou me.. thengin mop chth athothe pan patothithe gord vore d ctowe recatssst t at rat w whay ini ineacheanghe and\n",
            "juss..\n",
            "chedes ythere\n",
            "nmerupatour:\n",
            "\n",
            "\n",
            "rr.. au \n",
            "++++++++++++++++++++++++++++++++++++++++++++++++++++++++++\n",
            "Loss [epoch=99] = 0.07347499369315698\n",
            "Train Sample +++++++++++++++++++++++++++++++++++++++++++++\n",
            "wetherka:\n",
            "a got itom.. ass...\n",
            "cereleyoutshh s d at ra yor d cheanggandout yo ni whosjulit rat lpa:\n",
            "\n",
            "\n",
            "\n",
            "\n",
            "indyme\n",
            "mo indaban jumorers:y itheal ryous:\n",
            "y ithere iceplelou ah g thimooreys osh m thifu ke pouto\n",
            "++++++++++++++++++++++++++++++++++++++++++++++++++++++++++\n"
          ]
        }
      ],
      "source": [
        "lstm_fr_finetune_losses = finetune_lstm(fr_data, fr_data_size, './model_fr_lstm.pth', './model_wi_lstm.pth')"
      ]
    },
    {
      "cell_type": "markdown",
      "metadata": {
        "id": "62xwUDiPrEDq"
      },
      "source": [
        "## Generating texts"
      ]
    },
    {
      "cell_type": "code",
      "execution_count": 49,
      "metadata": {
        "id": "26S9Um9Jnm9T",
        "colab": {
          "base_uri": "https://localhost:8080/"
        },
        "outputId": "fb4271d7-2c5f-4c7d-b42d-815de26f0fe5"
      },
      "outputs": [
        {
          "output_type": "stream",
          "name": "stdout",
          "text": [
            "best loss 0.062849813455742\n",
            "Eaxmple of generated text --------------------------------------------------------------------------\n",
            "alabooeeto ronig yom y\n",
            "\n",
            "im f werays:\n",
            "\n",
            "\n",
            "s pa h.\n",
            "\n",
            "t peutha:\n",
            "an m:\n",
            "\n",
            "s ke. me au d al a:\n",
            "\n",
            "\n",
            "\n",
            "\n",
            "\n",
            "\n",
            "purom th kyoh acar osthrineisow hat w t at t ppeve ghereei dl tu t ppenout bigngout theruut ynd t poongracen wh\n",
            "wherl:\n",
            "\n",
            "\n",
            "ny i sso jut g w p is han mmernghor che me... thean yo bave ive.. ghs pr kal y t r kn\n",
            "stheronisowat t at r g moalel:\n",
            "ou ai a:\n",
            "\n",
            "\n",
            "jundoel and\n",
            "\n",
            "\n",
            "d\n",
            "\n",
            "oe imu wheshresi icaweng n outind\n",
            "au t rnonind.\n",
            "ure indd t pube ha tam li le a:\n",
            "\n",
            "\n",
            "\n",
            "jup t.\n",
            "y t hetichend t au whel:\n",
            "\n",
            "m momas:\n",
            "\n",
            "\n",
            "\n",
            "rerki\n",
            "\n",
            "\n",
            "ig y pp bllechednowassst y isf inan yousouticheas jug kngucar yo butonorerery atondneng cheto jupeverthre gof keyed:\n",
            "sce preli gea:\n",
            "wesesey\n",
            "wat.\n",
            "\n",
            "ou \n",
            "\n",
            "\n",
            "yos m neeamous o h i o jusss a anoutom thi aralllllllllloolegsther yo yo bu ten sss aro.\n",
            "\n",
            "ppech cheriseyoda ki wholit ct le.. cani s i arendabascald cheres\n",
            "\n",
            "\n",
            "\n",
            "\n",
            "\n",
            "g momorg pper y cheng we y wn osthrevedeeet t f mandoutok..\n",
            "\n",
            "no s hes ig..\n",
            "chet bbe shedle pis:\n",
            "me.. chet b au osondle ime y imorerele\n",
            "rrs th amu y tsathe t ve f s kinth cherinth lyourey:\n",
            "ut y th\n",
            "----------------------------------------------------------------------------------------------------\n"
          ]
        }
      ],
      "source": [
        "best_model_lstm =  LSTM(vocab_size, vocab_size, 512, 3).to(device)\n",
        "best_model_lstm.load_model('./model_fr_lstm.pth')\n",
        "print(\"best loss\", min(lstm_fr_finetune_losses))\n",
        "generate_text(best_model_lstm, fr_data, fr_data_size)"
      ]
    },
    {
      "cell_type": "markdown",
      "metadata": {
        "id": "Z7s2pjFjR-l4"
      },
      "source": [
        "- As you can see, the LSTM network has been able to learn the features of different datasets in terms of sentence length and writing style and use it in text generation."
      ]
    },
    {
      "cell_type": "markdown",
      "metadata": {
        "id": "7BGd20eltW3C"
      },
      "source": [
        "## The output of finetuned models on different datasets on the input sample"
      ]
    },
    {
      "cell_type": "markdown",
      "metadata": {
        "id": "Rp_UEVqAQuvy"
      },
      "source": [
        "- In this section, you can see the result of the text generated by models with a sample input text."
      ]
    },
    {
      "cell_type": "code",
      "execution_count": 50,
      "metadata": {
        "id": "NS_NqaJruKQe"
      },
      "outputs": [],
      "source": [
        "input_sample_text = \"Hello, have a nice day.\\n\""
      ]
    },
    {
      "cell_type": "code",
      "execution_count": 58,
      "metadata": {
        "id": "mWgLQM0G2r7D",
        "colab": {
          "base_uri": "https://localhost:8080/"
        },
        "outputId": "0dc4f139-1fd9-4697-90c9-32a6d5c89ee0"
      },
      "outputs": [
        {
          "output_type": "stream",
          "name": "stdout",
          "text": [
            "Eaxmple of generated text --------------------------------------------------------------------------\n",
            "\n",
            "cks ithere.\n",
            " ut lel:\n",
            "\n",
            "y y pris:\n",
            "\n",
            "moplpe ney\n",
            "\n",
            "youroul:\n",
            "\n",
            "mp ghe ly cheameroumeabusonowasss js tes:\n",
            "\n",
            "\n",
            "\n",
            "\n",
            "----------------------------------------------------------------------------------------------------\n"
          ]
        }
      ],
      "source": [
        "best_model_lstm =  LSTM(vocab_size, vocab_size, 512, 3).to(device)\n",
        "best_model_lstm.load_model('./model_fr_lstm.pth')\n",
        "generate_text(best_model_lstm, fr_data, fr_data_size, create_input_sample_dataset(input_sample_text),100)"
      ]
    },
    {
      "cell_type": "code",
      "execution_count": 59,
      "metadata": {
        "id": "gmFUUJCUtLKm",
        "colab": {
          "base_uri": "https://localhost:8080/"
        },
        "outputId": "85a732db-80a2-4f16-f8de-198defda0d80"
      },
      "outputs": [
        {
          "output_type": "stream",
          "name": "stdout",
          "text": [
            "Eaxmple of generated text --------------------------------------------------------------------------\n",
            "\n",
            "meankelelloouthear n n tomor hinof y\n",
            "n\n",
            "are outilo andi t llinththrali oor hine thashen athe urvie si\n",
            "----------------------------------------------------------------------------------------------------\n"
          ]
        }
      ],
      "source": [
        "best_model_lstm =  LSTM(vocab_size, vocab_size, 512, 3).to(device)\n",
        "best_model_lstm.load_model('./model_sh_finetune_lstm.pth')\n",
        "generate_text(best_model_lstm, sh_data, sh_data_size, create_input_sample_dataset(input_sample_text),100)"
      ]
    },
    {
      "cell_type": "markdown",
      "metadata": {
        "id": "kT-dTrk_RQyE"
      },
      "source": [
        "## Report"
      ]
    },
    {
      "cell_type": "markdown",
      "metadata": {
        "id": "vNJdGJN1RLpz"
      },
      "source": [
        "According to the sample input and output produced by the fine-tuned model with the Shakespeare dataset and the Friends dataset, which output is more meaningful and what is the reason for this difference?"
      ]
    },
    {
      "cell_type": "markdown",
      "metadata": {
        "id": "k4nBCaS2RWN_"
      },
      "source": [
        "<font color='#73FF73'><b>Your answer : </b></font>"
      ]
    },
    {
      "cell_type": "markdown",
      "metadata": {
        "id": "Tq_1cBKGRX8i"
      },
      "source": [
        "----\n",
        "----"
      ]
    }
  ],
  "metadata": {
    "accelerator": "GPU",
    "colab": {
      "provenance": []
    },
    "kernelspec": {
      "display_name": "Python 3",
      "name": "python3"
    },
    "language_info": {
      "name": "python"
    }
  },
  "nbformat": 4,
  "nbformat_minor": 0
}