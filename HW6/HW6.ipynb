{
  "cells": [
    {
      "cell_type": "markdown",
      "metadata": {
        "id": "Z_zBh5XkFS2x"
      },
      "source": [
        "# In the name of God\n",
        "### HW6\n",
        "### Deep Q-Learning\n",
        "\n"
      ]
    },
    {
      "cell_type": "markdown",
      "metadata": {
        "id": "le8_aVDDFwXN"
      },
      "source": [
        "**Name:** Amir Mohammad Babaei\n",
        "\n",
        "**Std. No.:** 402212399"
      ]
    },
    {
      "cell_type": "markdown",
      "metadata": {
        "id": "43stiMNMF00N"
      },
      "source": [
        "\n",
        "### Deep Q-Learning (DQN)\n",
        "\n",
        "Deep Q-Learning is a popular algorithm in reinforcement learning that combines the ideas of Q-learning, a traditional reinforcement learning method, with deep neural networks. The goal is to train an agent to make decisions by estimating the optimal action-value function Q, which represents the expected cumulative future rewards for taking a particular action in a given state.\n",
        "\n",
        "Key components of DQN:\n",
        "\n",
        "- **Experience Replay:** To break the temporal correlation in sequential data and improve sample efficiency, we use an experience replay buffer to store and sample past experiences.\n",
        "- **Target Networks:** The use of two separate networks, the main network and a target network, helps stabilize training by decoupling the update targets from the online network's constantly changing values.\n",
        "\n",
        "### The Lunar Lander Problem\n",
        "\n",
        "The task is to control a lunar lander and guide it to land safely on the moon's surface. The agent needs to learn a policy that takes into account the lunar lander's state (position, velocity, angle, angular velocity, etc.) and chooses appropriate actions (thrust left, thrust right, thrust up, or do nothing) to achieve a safe landing.\n",
        "\n",
        "### Overview\n",
        "\n",
        "- **Environment:** LunarLander-v2 from OpenAI Gym.\n",
        "- **Objective:** Train an agent to learn a policy for landing the lunar lander safely.\n",
        "- **Techniques:** Deep Q-Learning, Experience Replay, Target Networks.\n",
        "\n",
        "### Instructions\n",
        "\n",
        "1. Follow the instructions and comments in the code cells to implement and understand each component.\n",
        "2. Replace the `#####TO DO#####` placeholders with your code.\n",
        "3. Experiment with hyperparameters and observe how they affect the training process.\n",
        "4. Run the notebook to train the agent and play the game with the trained model.\n",
        "5. Answer any provided questions or tasks to reinforce your understanding.\n",
        "\n",
        "### Prerequisites\n",
        "\n",
        "Make sure you have the following libraries installed:\n"
      ]
    },
    {
      "cell_type": "code",
      "execution_count": 1,
      "metadata": {
        "id": "H_SIKDiCCBfC",
        "colab": {
          "base_uri": "https://localhost:8080/",
          "height": 430
        },
        "outputId": "3403e62d-bdef-4fab-ce81-6cb8e6f40be7"
      },
      "outputs": [
        {
          "output_type": "stream",
          "name": "stdout",
          "text": [
            "Requirement already satisfied: setuptools in /usr/local/lib/python3.10/dist-packages (67.7.2)\n",
            "Collecting setuptools\n",
            "  Downloading setuptools-69.0.3-py3-none-any.whl (819 kB)\n",
            "\u001b[2K     \u001b[90m━━━━━━━━━━━━━━━━━━━━━━━━━━━━━━━━━━━━━━━━\u001b[0m \u001b[32m819.5/819.5 kB\u001b[0m \u001b[31m12.0 MB/s\u001b[0m eta \u001b[36m0:00:00\u001b[0m\n",
            "\u001b[?25hRequirement already satisfied: wheel in /usr/local/lib/python3.10/dist-packages (0.42.0)\n",
            "Installing collected packages: setuptools\n",
            "  Attempting uninstall: setuptools\n",
            "    Found existing installation: setuptools 67.7.2\n",
            "    Uninstalling setuptools-67.7.2:\n",
            "      Successfully uninstalled setuptools-67.7.2\n",
            "\u001b[31mERROR: pip's dependency resolver does not currently take into account all the packages that are installed. This behaviour is the source of the following dependency conflicts.\n",
            "ipython 7.34.0 requires jedi>=0.16, which is not installed.\n",
            "lida 0.0.10 requires fastapi, which is not installed.\n",
            "lida 0.0.10 requires kaleido, which is not installed.\n",
            "lida 0.0.10 requires python-multipart, which is not installed.\n",
            "lida 0.0.10 requires uvicorn, which is not installed.\u001b[0m\u001b[31m\n",
            "\u001b[0mSuccessfully installed setuptools-69.0.3\n"
          ]
        },
        {
          "output_type": "display_data",
          "data": {
            "application/vnd.colab-display-data+json": {
              "pip_warning": {
                "packages": [
                  "_distutils_hack",
                  "pkg_resources",
                  "setuptools"
                ]
              }
            }
          },
          "metadata": {}
        }
      ],
      "source": [
        "!pip install --upgrade setuptools wheel"
      ]
    },
    {
      "cell_type": "code",
      "execution_count": 2,
      "metadata": {
        "id": "DllO2OwTCjh3",
        "colab": {
          "base_uri": "https://localhost:8080/"
        },
        "outputId": "7581aa6b-0de9-4c3a-d305-4151d7487180"
      },
      "outputs": [
        {
          "output_type": "stream",
          "name": "stdout",
          "text": [
            "Collecting swig\n",
            "  Downloading swig-4.1.1.post1-py2.py3-none-manylinux_2_5_x86_64.manylinux1_x86_64.whl (1.8 MB)\n",
            "\u001b[2K     \u001b[90m━━━━━━━━━━━━━━━━━━━━━━━━━━━━━━━━━━━━━━━━\u001b[0m \u001b[32m1.8/1.8 MB\u001b[0m \u001b[31m16.7 MB/s\u001b[0m eta \u001b[36m0:00:00\u001b[0m\n",
            "\u001b[?25hInstalling collected packages: swig\n",
            "Successfully installed swig-4.1.1.post1\n",
            "Requirement already satisfied: gym[box2d] in /usr/local/lib/python3.10/dist-packages (0.25.2)\n",
            "Requirement already satisfied: numpy>=1.18.0 in /usr/local/lib/python3.10/dist-packages (from gym[box2d]) (1.23.5)\n",
            "Requirement already satisfied: cloudpickle>=1.2.0 in /usr/local/lib/python3.10/dist-packages (from gym[box2d]) (2.2.1)\n",
            "Requirement already satisfied: gym-notices>=0.0.4 in /usr/local/lib/python3.10/dist-packages (from gym[box2d]) (0.0.8)\n",
            "Collecting box2d-py==2.3.5 (from gym[box2d])\n",
            "  Downloading box2d-py-2.3.5.tar.gz (374 kB)\n",
            "\u001b[2K     \u001b[90m━━━━━━━━━━━━━━━━━━━━━━━━━━━━━━━━━━━━━━━━\u001b[0m \u001b[32m374.4/374.4 kB\u001b[0m \u001b[31m2.4 MB/s\u001b[0m eta \u001b[36m0:00:00\u001b[0m\n",
            "\u001b[?25h  Preparing metadata (setup.py) ... \u001b[?25l\u001b[?25hdone\n",
            "Collecting pygame==2.1.0 (from gym[box2d])\n",
            "  Downloading pygame-2.1.0-cp310-cp310-manylinux_2_17_x86_64.manylinux2014_x86_64.whl (18.3 MB)\n",
            "\u001b[2K     \u001b[90m━━━━━━━━━━━━━━━━━━━━━━━━━━━━━━━━━━━━━━━━\u001b[0m \u001b[32m18.3/18.3 MB\u001b[0m \u001b[31m32.5 MB/s\u001b[0m eta \u001b[36m0:00:00\u001b[0m\n",
            "\u001b[?25hRequirement already satisfied: swig==4.* in /usr/local/lib/python3.10/dist-packages (from gym[box2d]) (4.1.1.post1)\n",
            "Building wheels for collected packages: box2d-py\n",
            "  Building wheel for box2d-py (setup.py) ... \u001b[?25l\u001b[?25hdone\n",
            "  Created wheel for box2d-py: filename=box2d_py-2.3.5-cp310-cp310-linux_x86_64.whl size=2373080 sha256=e651c7ed2083ca820d2dea570a63f3a0b3040c06926d020e8c6da6d1df248b6e\n",
            "  Stored in directory: /root/.cache/pip/wheels/db/8f/6a/eaaadf056fba10a98d986f6dce954e6201ba3126926fc5ad9e\n",
            "Successfully built box2d-py\n",
            "Installing collected packages: box2d-py, pygame\n",
            "  Attempting uninstall: pygame\n",
            "    Found existing installation: pygame 2.5.2\n",
            "    Uninstalling pygame-2.5.2:\n",
            "      Successfully uninstalled pygame-2.5.2\n",
            "Successfully installed box2d-py-2.3.5 pygame-2.1.0\n"
          ]
        }
      ],
      "source": [
        "!pip install swig\n",
        "!pip install gym[box2d]"
      ]
    },
    {
      "cell_type": "markdown",
      "metadata": {
        "id": "NWLFFqKfGcip"
      },
      "source": [
        "# Imports"
      ]
    },
    {
      "cell_type": "code",
      "execution_count": 4,
      "metadata": {
        "id": "MJG1tV3p-8EM",
        "colab": {
          "base_uri": "https://localhost:8080/"
        },
        "outputId": "31f7a29c-7bb1-4f5a-9b02-2b95491cecf9"
      },
      "outputs": [
        {
          "output_type": "stream",
          "name": "stderr",
          "text": [
            "/usr/local/lib/python3.10/dist-packages/ipykernel/ipkernel.py:283: DeprecationWarning: `should_run_async` will not call `transform_cell` automatically in the future. Please pass the result to `transformed_cell` argument and any exception that happen during thetransform in `preprocessing_exc_tuple` in IPython 7.17 and above.\n",
            "  and should_run_async(code)\n",
            "/usr/local/lib/python3.10/dist-packages/gym/core.py:317: DeprecationWarning: \u001b[33mWARN: Initializing wrapper in old step API which returns one bool instead of two. It is recommended to set `new_step_api=True` to use new step API. This will be the default behaviour in future.\u001b[0m\n",
            "  deprecation(\n",
            "/usr/local/lib/python3.10/dist-packages/gym/wrappers/step_api_compatibility.py:39: DeprecationWarning: \u001b[33mWARN: Initializing environment in old step API which returns one bool instead of two. It is recommended to set `new_step_api=True` to use new step API. This will be the default behaviour in future.\u001b[0m\n",
            "  deprecation(\n"
          ]
        }
      ],
      "source": [
        "import numpy as np\n",
        "import gym\n",
        "import time\n",
        "import torch\n",
        "import torch.nn as nn\n",
        "import torch.optim as optim\n",
        "import os\n",
        "import collections\n",
        "import matplotlib.pyplot as plt\n",
        "import collections\n",
        "import random\n",
        "\n",
        "\n",
        "env = gym.make('LunarLander-v2')"
      ]
    },
    {
      "cell_type": "code",
      "execution_count": 10,
      "metadata": {
        "id": "_k--sktuIFlO"
      },
      "outputs": [],
      "source": [
        "\n",
        "class DQN(nn.Module):\n",
        "    def __init__(self, in_features, n_actions):\n",
        "        \"\"\"\n",
        "        Initialize the Deep Q-Network (DQN).\n",
        "\n",
        "        Parameters:\n",
        "        - in_features (int): Number of input features (dimension of the state).\n",
        "        - n_actions (int): Number of possible actions in the environment.\n",
        "        \"\"\"\n",
        "        super(DQN, self).__init__()\n",
        "\n",
        "        # TODO: Implement the neural network architecture\n",
        "        # Use Linear layers with ReLU\n",
        "        # Number of hidden units in each layer:\n",
        "        # - Layer 1: 256 units\n",
        "        # - Layer 2: 128 units\n",
        "        # - Layer 3: 64 units\n",
        "        self.model = nn.Sequential(\n",
        "            nn.Linear(in_features, 256),\n",
        "            nn.ReLU(True),\n",
        "            nn.Linear(256, 128),\n",
        "            nn.ReLU(True),\n",
        "            nn.Linear(128, 64),\n",
        "            nn.ReLU(True),\n",
        "            nn.Linear(64, n_actions)\n",
        "        )\n",
        "\n",
        "\n",
        "    def forward(self, x):\n",
        "        \"\"\"\n",
        "        Define the forward pass of the neural network.\n",
        "\n",
        "        Parameters:\n",
        "        - x (torch.Tensor): Input tensor representing the state.\n",
        "\n",
        "        Returns:\n",
        "        - torch.Tensor: Output tensor representing Q-values for each action.\n",
        "        \"\"\"\n",
        "        # TODO: Implement the forward pass\n",
        "        return self.model(x)\n"
      ]
    },
    {
      "cell_type": "code",
      "execution_count": 25,
      "metadata": {
        "collapsed": true,
        "id": "B6zGowe__ac8",
        "colab": {
          "base_uri": "https://localhost:8080/"
        },
        "outputId": "cf0ed8bf-e346-4cb8-d4b7-6266c508b2a8"
      },
      "outputs": [
        {
          "output_type": "stream",
          "name": "stderr",
          "text": [
            "/usr/local/lib/python3.10/dist-packages/ipykernel/ipkernel.py:283: DeprecationWarning: `should_run_async` will not call `transform_cell` automatically in the future. Please pass the result to `transformed_cell` argument and any exception that happen during thetransform in `preprocessing_exc_tuple` in IPython 7.17 and above.\n",
            "  and should_run_async(code)\n"
          ]
        }
      ],
      "source": [
        "class ExperienceBuffer():\n",
        "    def __init__(self, capacity):\n",
        "        \"\"\"\n",
        "        Initialize the Experience Replay Buffer.\n",
        "\n",
        "        Parameters:\n",
        "        - capacity (int): Maximum capacity of the buffer.\n",
        "        \"\"\"\n",
        "        self.exp_buffer = collections.deque(maxlen=capacity)\n",
        "\n",
        "    def append(self, exp):\n",
        "        \"\"\"\n",
        "        Append a new experience to the buffer.\n",
        "\n",
        "        Parameters:\n",
        "        - exp (tuple): Tuple representing a single experience (state, action, reward, done, next_state).\n",
        "        \"\"\"\n",
        "        self.exp_buffer.append(exp)\n",
        "\n",
        "    def __len__(self):\n",
        "        \"\"\"\n",
        "        Get the current size of the buffer.\n",
        "\n",
        "        Returns:\n",
        "        - int: Number of experiences currently stored in the buffer.\n",
        "        \"\"\"\n",
        "        return len(self.exp_buffer)\n",
        "\n",
        "    def clear(self):\n",
        "        \"\"\"Clear all experiences from the buffer.\"\"\"\n",
        "        self.exp_buffer.clear()\n",
        "\n",
        "    def sample(self, batch_size):\n",
        "        \"\"\"\n",
        "        TODO: Sample a batch of experiences from the buffer.\n",
        "\n",
        "        Parameters:\n",
        "        - batch_size (int): Size of the batch to be sampled.\n",
        "\n",
        "        Returns:\n",
        "        - tuple: Batch of experiences (states, actions, rewards, dones, next_states).\n",
        "        \"\"\"\n",
        "        # TODO: Implement the sampling logic\n",
        "\n",
        "\n",
        "        # TODO: Convert to NumPy arrays with appropriate data types\n",
        "        sample_batch = random.sample(self.exp_buffer, batch_size)\n",
        "        states      = np.array([instance[0] for instance in sample_batch])\n",
        "        actions     = np.array([instance[1] for instance in sample_batch])\n",
        "        rewards     = np.array([instance[2] for instance in sample_batch], dtype=np.float32)\n",
        "        dones       = np.array([instance[3] for instance in sample_batch], dtype=np.uint8)\n",
        "        next_states = np.array([instance[4] for instance in sample_batch])\n",
        "        return states, actions, rewards, dones, next_states\n"
      ]
    },
    {
      "cell_type": "code",
      "execution_count": 26,
      "metadata": {
        "collapsed": true,
        "id": "G8ZC4Jbc_oo6"
      },
      "outputs": [],
      "source": [
        "class Agent():\n",
        "    def __init__(self, env, buffer):\n",
        "        \"\"\"\n",
        "        Initialize the agent.\n",
        "\n",
        "        Parameters:\n",
        "        - env: The environment the agent interacts with.\n",
        "        - buffer: Experience replay buffer to store agent experiences.\n",
        "        \"\"\"\n",
        "        self.env = env\n",
        "        self.buffer = buffer\n",
        "        self._reset()\n",
        "\n",
        "    def _reset(self):\n",
        "        \"\"\"\n",
        "        Reset the agent's state and total rewards to the initial state.\n",
        "        \"\"\"\n",
        "        self.state = env.reset()\n",
        "        self.total_rewards = 0.0\n",
        "\n",
        "    def step(self, net, eps, device=\"cpu\"):\n",
        "        \"\"\"\n",
        "        TODO: Implement the exploration-exploitation strategy (epsilon-greedy) here.\n",
        "\n",
        "        Take a step in the environment using the provided neural network.\n",
        "\n",
        "        Parameters:\n",
        "        - net: The neural network representing the agent's policy.\n",
        "        - eps (float): Epsilon value for epsilon-greedy exploration.\n",
        "        - device (str): Device for neural network computations.\n",
        "\n",
        "        Returns:\n",
        "        - done_reward: Total rewards obtained in the episode if it is finished, otherwise None.\n",
        "        \"\"\"\n",
        "        done_reward = None\n",
        "\n",
        "        # TODO: Implement exploration-exploitation strategy here\n",
        "        if np.random.random() < eps:\n",
        "            # exploration\n",
        "            action = env.action_space.sample()\n",
        "        else:\n",
        "            # exploitation\n",
        "            state_prev = torch.tensor(self.state).to(device)\n",
        "            action = int(torch.argmax(net(state_prev).to(device)))\n",
        "\n",
        "        # TODO: Take the selected action for 4 time steps (adjustable)\n",
        "        done = False\n",
        "        state_prev = self.state\n",
        "        for _ in range(4):\n",
        "            self.state, reward, done, info = env.step(action)\n",
        "            self.total_rewards += reward\n",
        "            if done:\n",
        "                break\n",
        "\n",
        "        # TODO: Append the experience to the buffer\n",
        "        self.buffer.append((state_prev, action, reward, done, self.state))\n",
        "        if done:\n",
        "            done_reward = self.total_rewards\n",
        "            self._reset()\n",
        "\n",
        "        return done_reward\n"
      ]
    },
    {
      "cell_type": "code",
      "execution_count": 27,
      "metadata": {
        "collapsed": true,
        "id": "U5sWRHaU_fD7"
      },
      "outputs": [],
      "source": [
        "# Hyperparameters\n",
        "GAMMA = 0.99  # Discount factor for future rewards\n",
        "EPSILON_START = 1.0  # Initial exploration probability (epsilon-greedy)\n",
        "EPSILON_FINAL = 0.01  # Final exploration probability (epsilon-greedy)\n",
        "EPSILON_DECAY_OBS = 10**5  # Number of observations for epsilon decay\n",
        "BATCH_SIZE = 32  # Size of the experience replay batch\n",
        "MEAN_GOAL_REWARD = 250  # Mean reward goal for solving the environment\n",
        "REPLAY_BUFFER_SIZE = 10000  # Maximum capacity of the experience replay buffer\n",
        "REPLAY_MIN_SIZE = 10000  # Minimum size of the experience replay buffer before training begins\n",
        "LEARNING_RATE = 1e-4  # Learning rate for the neural network optimizer\n",
        "SYNC_TARGET_OBS = 1000  # Number of observations before synchronizing target and online networks"
      ]
    },
    {
      "cell_type": "code",
      "execution_count": 30,
      "metadata": {
        "id": "FItvw2-BD6gm"
      },
      "outputs": [],
      "source": [
        "import torch\n",
        "import torch.nn as nn\n",
        "\n",
        "def cal_loss(batch, net, tgt_net, device='cpu'):\n",
        "    \"\"\"\n",
        "    TODO: Implement the loss calculation for Deep Q-Learning.\n",
        "\n",
        "    Calculate the loss for Deep Q-Learning.\n",
        "\n",
        "    Parameters:\n",
        "    - batch (tuple): Batch of experiences (states, actions, rewards, dones, next_states).\n",
        "    - net: The neural network representing the online Q-network.\n",
        "    - tgt_net: The neural network representing the target Q-network.\n",
        "    - device (str): Device for neural network computations (default is \"cpu\").\n",
        "\n",
        "    Returns:\n",
        "    - torch.Tensor: Loss value calculated using Mean Squared Error (MSE) loss.\n",
        "    \"\"\"\n",
        "\n",
        "    states, actions, rewards, dones, next_states = batch\n",
        "    states_v = torch.tensor(states).to(device)\n",
        "    actions_v = torch.tensor(actions).to(device)\n",
        "    rewards_v = torch.tensor(rewards).to(device)\n",
        "    dones_v = torch.BoolTensor(dones).to(device)\n",
        "    next_states_v = torch.tensor(next_states).to(device)\n",
        "\n",
        "    # TODO: Calculate Q-values for the current states and selected actions\n",
        "    Q_val = net(states_v).gather(1, actions_v.unsqueeze(-1)).squeeze(-1)\n",
        "\n",
        "    # TODO: Calculate the maximum Q-value for the next states using the target network\n",
        "    Q_val_next = tgt_net(next_states_v).max(1)[0]\n",
        "\n",
        "    # TODO: Zero out Q-values for terminal states\n",
        "    Q_val_next[dones_v] = 0.0\n",
        "\n",
        "    # TODO: Detach Q-values for the next states to avoid gradient flow\n",
        "    Q_val_next = Q_val_next.detach()\n",
        "\n",
        "    # TODO: Calculate the expected return for the current states\n",
        "    expected_return = rewards_v + GAMMA * Q_val_next\n",
        "\n",
        "    # TODO: Implement the Mean Squared Error (MSE) loss calculation\n",
        "    loss = nn.MSELoss()(Q_val, expected_return)\n",
        "\n",
        "    return loss\n",
        "\n"
      ]
    },
    {
      "cell_type": "markdown",
      "metadata": {
        "id": "wZadHztDQVs0"
      },
      "source": [
        "# Learning Curves\n",
        " Plot learning curves showing key metrics (e.g., total rewards, loss) over the course of training. Analyze the trends and identify key points in the learning process."
      ]
    },
    {
      "cell_type": "code",
      "execution_count": 31,
      "metadata": {
        "id": "NdXuc3WBAjbi",
        "colab": {
          "base_uri": "https://localhost:8080/",
          "height": 1000
        },
        "outputId": "973d1347-9973-4725-eb74-36ba030e6c92"
      },
      "outputs": [
        {
          "output_type": "stream",
          "name": "stdout",
          "text": [
            "GAME : 84523, TIME ECLAPSED : 1.3826909065246582, EPSILON : 0.15476999999999996, MEAN_REWARD : -61.191319711232275\n",
            "Reward -63.836169201453096 -> -61.191319711232275 Model Saved\n",
            "GAME : 85276, TIME ECLAPSED : 0.4211914539337158, EPSILON : 0.14724000000000004, MEAN_REWARD : -47.7969179931446\n",
            "Reward -52.08736339851499 -> -47.7969179931446 Model Saved\n",
            "GAME : 85568, TIME ECLAPSED : 0.40212535858154297, EPSILON : 0.14432, MEAN_REWARD : -39.01690578747093\n",
            "Reward -41.79446345669103 -> -39.01690578747093 Model Saved\n",
            "GAME : 86033, TIME ECLAPSED : 0.3099517822265625, EPSILON : 0.13966999999999996, MEAN_REWARD : -29.03843095625437\n",
            "Reward -29.978769678847975 -> -29.03843095625437 Model Saved\n",
            "GAME : 86523, TIME ECLAPSED : 0.26012444496154785, EPSILON : 0.13476999999999995, MEAN_REWARD : -17.624098201069742\n",
            "Reward -19.117072359773978 -> -17.624098201069742 Model Saved\n",
            "GAME : 86902, TIME ECLAPSED : 0.4002063274383545, EPSILON : 0.13097999999999999, MEAN_REWARD : -4.5524386956591885\n",
            "Reward -8.417126534150135 -> -4.5524386956591885 Model Saved\n",
            "GAME : 87200, TIME ECLAPSED : 0.7818830013275146, EPSILON : 0.128, MEAN_REWARD : 6.201632567240615\n",
            "Reward 1.928296318092595 -> 6.201632567240615 Model Saved\n",
            "GAME : 87453, TIME ECLAPSED : 0.47251129150390625, EPSILON : 0.12546999999999997, MEAN_REWARD : 17.39128684926709\n",
            "Reward 14.470499833134822 -> 17.39128684926709 Model Saved\n",
            "GAME : 87694, TIME ECLAPSED : 0.41570091247558594, EPSILON : 0.12305999999999995, MEAN_REWARD : 27.609559349989777\n",
            "Reward 25.338640201151765 -> 27.609559349989777 Model Saved\n",
            "GAME : 88071, TIME ECLAPSED : 0.585120439529419, EPSILON : 0.11929000000000001, MEAN_REWARD : 41.35691708938396\n",
            "Reward 38.69753233583695 -> 41.35691708938396 Model Saved\n",
            "GAME : 88431, TIME ECLAPSED : 0.3153550624847412, EPSILON : 0.11568999999999996, MEAN_REWARD : 56.189374864621115\n",
            "Reward 52.937857010565914 -> 56.189374864621115 Model Saved\n",
            "GAME : 88877, TIME ECLAPSED : 0.6180429458618164, EPSILON : 0.11123000000000005, MEAN_REWARD : 64.81768151787712\n",
            "Reward 64.31716545361873 -> 64.81768151787712 Model Saved\n",
            "GAME : 89543, TIME ECLAPSED : 0.3058779239654541, EPSILON : 0.10457000000000005, MEAN_REWARD : 79.32977994021229\n",
            "Reward 76.03983800703665 -> 79.32977994021229 Model Saved\n",
            "GAME : 89907, TIME ECLAPSED : 0.3399660587310791, EPSILON : 0.10092999999999996, MEAN_REWARD : 89.75505727758984\n",
            "Reward 86.29706762641518 -> 89.75505727758984 Model Saved\n",
            "GAME : 90341, TIME ECLAPSED : 0.6519589424133301, EPSILON : 0.09658999999999995, MEAN_REWARD : 100.96037857270065\n",
            "Reward 98.71184776113965 -> 100.96037857270065 Model Saved\n",
            "GAME : 90742, TIME ECLAPSED : 0.9065375328063965, EPSILON : 0.09258, MEAN_REWARD : 110.98725143677912\n",
            "Reward 109.00014198522891 -> 110.98725143677912 Model Saved\n",
            "GAME : 91194, TIME ECLAPSED : 0.3795652389526367, EPSILON : 0.08806000000000003, MEAN_REWARD : 126.96224175206007\n",
            "Reward 119.87644760591382 -> 126.96224175206007 Model Saved\n",
            "GAME : 91323, TIME ECLAPSED : 0.36811137199401855, EPSILON : 0.08677000000000001, MEAN_REWARD : 132.67391005173369\n",
            "Reward 130.0562926136374 -> 132.67391005173369 Model Saved\n",
            "GAME : 91678, TIME ECLAPSED : 0.875525712966919, EPSILON : 0.08321999999999996, MEAN_REWARD : 142.16891448744983\n",
            "Reward 141.59936521573786 -> 142.16891448744983 Model Saved\n",
            "GAME : 92082, TIME ECLAPSED : 0.3230283260345459, EPSILON : 0.07918000000000003, MEAN_REWARD : 154.65829214030185\n",
            "Reward 151.88467674511259 -> 154.65829214030185 Model Saved\n",
            "GAME : 92599, TIME ECLAPSED : 0.6670777797698975, EPSILON : 0.07401000000000002, MEAN_REWARD : 166.50630374559924\n",
            "Reward 163.90852115652143 -> 166.50630374559924 Model Saved\n",
            "GAME : 93218, TIME ECLAPSED : 0.3708364963531494, EPSILON : 0.06781999999999999, MEAN_REWARD : 175.04198082032806\n",
            "Reward 174.89672430193804 -> 175.04198082032806 Model Saved\n",
            "GAME : 94006, TIME ECLAPSED : 0.3093292713165283, EPSILON : 0.05993999999999999, MEAN_REWARD : 185.60262423606045\n",
            "Reward 185.1359312235592 -> 185.60262423606045 Model Saved\n",
            "GAME : 94683, TIME ECLAPSED : 0.30019283294677734, EPSILON : 0.05317000000000005, MEAN_REWARD : 195.74086030869657\n",
            "Reward 195.4715699823949 -> 195.74086030869657 Model Saved\n",
            "GAME : 97956, TIME ECLAPSED : 0.422360897064209, EPSILON : 0.020440000000000014, MEAN_REWARD : 206.33454232166036\n",
            "Reward 205.80849038684454 -> 206.33454232166036 Model Saved\n",
            "GAME : 99780, TIME ECLAPSED : 0.30505943298339844, EPSILON : 0.01, MEAN_REWARD : 216.27634664759344\n",
            "Reward 215.95331187669487 -> 216.27634664759344 Model Saved\n"
          ]
        },
        {
          "output_type": "display_data",
          "data": {
            "text/plain": [
              "<Figure size 640x480 with 1 Axes>"
            ],
            "image/png": "[encoded data removed]"
          },
          "metadata": {}
        },
        {
          "output_type": "stream",
          "name": "stdout",
          "text": [
            "GAME : 100475, TIME ECLAPSED : 0.26540708541870117, EPSILON : 0.01, MEAN_REWARD : 228.1164960996626\n",
            "Reward 227.84158373875664 -> 228.1164960996626 Model Saved\n",
            "GAME : 102640, TIME ECLAPSED : 0.6473569869995117, EPSILON : 0.01, MEAN_REWARD : 241.90195466724978\n",
            "Reward 241.54428420851778 -> 241.90195466724978 Model Saved\n",
            "SOLVED in 103472 obs\n"
          ]
        }
      ],
      "source": [
        "device = torch.device(\"cuda\" if torch.cuda.is_available() else 'cpu')\n",
        "\n",
        "net = DQN(env.observation_space.shape[0], env.action_space.n).to(device)\n",
        "tgt_net = DQN(env.observation_space.shape[0], env.action_space.n).to(device)\n",
        "\n",
        "buffer = ExperienceBuffer(REPLAY_BUFFER_SIZE)\n",
        "\n",
        "agent = Agent(env, buffer)\n",
        "\n",
        "epsilon = EPSILON_START\n",
        "\n",
        "optimizer = optim.Adam(net.parameters(), lr=LEARNING_RATE)\n",
        "\n",
        "# Lists to track total rewards and losses over training\n",
        "total_rewards = []\n",
        "losses = []\n",
        "\n",
        "# Initialize time variables for tracking training time\n",
        "ts = time.time()\n",
        "best_mean_reward = None\n",
        "obs_id = 0\n",
        "\n",
        "while True:\n",
        "    obs_id += 1\n",
        "\n",
        "    # Update exploration rate based on epsilon decay schedule\n",
        "    epsilon = max(EPSILON_FINAL, EPSILON_START - obs_id/EPSILON_DECAY_OBS)\n",
        "\n",
        "    # Agent takes a step in the environment, receives a reward\n",
        "    reward = agent.step(net, epsilon, device=device)\n",
        "\n",
        "    if reward is not None:\n",
        "        # Store total rewards and update game time\n",
        "        total_rewards.append(reward)\n",
        "        game_time = time.time() - ts\n",
        "        ts = time.time()\n",
        "        mean_reward = np.mean(total_rewards[-100:])\n",
        "\n",
        "        if best_mean_reward is None or best_mean_reward < mean_reward:\n",
        "            torch.save(net.state_dict(), './lunar_lander-best.dat')\n",
        "\n",
        "            if best_mean_reward is None:\n",
        "                last = mean_reward\n",
        "                best_mean_reward = mean_reward\n",
        "\n",
        "            if best_mean_reward is not None and best_mean_reward - last > 10:\n",
        "                last = best_mean_reward\n",
        "                print(\"GAME : {}, TIME ECLAPSED : {}, EPSILON : {}, MEAN_REWARD : {}\"\n",
        "                      .format(obs_id, game_time, epsilon, mean_reward))\n",
        "                print(\"Reward {} -> {} Model Saved\".format(best_mean_reward, mean_reward))\n",
        "\n",
        "            best_mean_reward = mean_reward\n",
        "\n",
        "        if mean_reward > MEAN_GOAL_REWARD:\n",
        "            print(\"SOLVED in {} obs\".format(obs_id))\n",
        "            break\n",
        "\n",
        "    # Continue training if the replay buffer size is below the minimum required\n",
        "    if len(buffer) < REPLAY_MIN_SIZE:\n",
        "        continue\n",
        "\n",
        "    # Synchronize target network with the Q-network at regular intervals\n",
        "    if obs_id % SYNC_TARGET_OBS == 0:\n",
        "        tgt_net.load_state_dict(net.state_dict())\n",
        "\n",
        "    # TODO: Implement the training process (calculating loss, backpropagation, and optimizer step)\n",
        "    optimizer.zero_grad()\n",
        "    batch = buffer.sample(BATCH_SIZE)\n",
        "    loss_t = cal_loss(batch, net, tgt_net, device=device)\n",
        "    losses.append(loss_t.item())\n",
        "    loss_t.backward()\n",
        "    optimizer.step()\n",
        "\n",
        "    # TODO: Plot learning curves every few episodes or steps\n",
        "    if obs_id % 100000 == 0 and obs_id != 0:\n",
        "        plt.plot(losses, label='Loss')\n",
        "        plt.xlabel('Episode')\n",
        "        plt.ylabel('Loss')\n",
        "        plt.title('Training Loss Over Episodes')\n",
        "        plt.legend()\n",
        "        plt.show()\n"
      ]
    },
    {
      "cell_type": "markdown",
      "metadata": {
        "id": "MwZygyvBOzLe"
      },
      "source": [
        "# Visual Comparison:\n",
        "\n",
        "write a function to render and display the environment before and after training. What visual differences do you observe in the agent's behavior? Discuss it. Also, Upload the Videos with your notebook. You can use the following library for rendering and saving videos."
      ]
    },
    {
      "cell_type": "code",
      "execution_count": 33,
      "metadata": {
        "id": "9_ClI7VqMHgh",
        "colab": {
          "base_uri": "https://localhost:8080/"
        },
        "outputId": "d259dbea-e51e-40d3-e7bc-b70c9b4b7077"
      },
      "outputs": [
        {
          "output_type": "stream",
          "name": "stderr",
          "text": [
            "/usr/local/lib/python3.10/dist-packages/ipykernel/ipkernel.py:283: DeprecationWarning: `should_run_async` will not call `transform_cell` automatically in the future. Please pass the result to `transformed_cell` argument and any exception that happen during thetransform in `preprocessing_exc_tuple` in IPython 7.17 and above.\n",
            "  and should_run_async(code)\n",
            "/usr/local/lib/python3.10/dist-packages/gym/core.py:43: DeprecationWarning: \u001b[33mWARN: The argument mode in render method is deprecated; use render_mode during environment initialization instead.\n",
            "See here for more information: https://www.gymlibrary.ml/content/api/\u001b[0m\n",
            "  deprecation(\n"
          ]
        },
        {
          "output_type": "stream",
          "name": "stdout",
          "text": [
            "### BEFORE TRAINING ###\n"
          ]
        },
        {
          "output_type": "stream",
          "name": "stderr",
          "text": [
            "WARNING:imageio_ffmpeg:IMAGEIO FFMPEG_WRITER WARNING: input image is not divisible by macro_block_size=16, resizing from (600, 400) to (608, 400) to ensure video compatibility with most codecs and players. To prevent resizing, make your input image divisible by the macro_block_size or set the macro_block_size to 1 (risking incompatibility).\n"
          ]
        },
        {
          "output_type": "stream",
          "name": "stdout",
          "text": [
            "### AFTER TRAINING ###\n"
          ]
        },
        {
          "output_type": "stream",
          "name": "stderr",
          "text": [
            "WARNING:imageio_ffmpeg:IMAGEIO FFMPEG_WRITER WARNING: input image is not divisible by macro_block_size=16, resizing from (600, 400) to (608, 400) to ensure video compatibility with most codecs and players. To prevent resizing, make your input image divisible by the macro_block_size or set the macro_block_size to 1 (risking incompatibility).\n"
          ]
        }
      ],
      "source": [
        "import imageio\n",
        "\n",
        "# Helper function for rendering and saving a video\n",
        "def render_and_save_video(env, net, episodes=10, save_path=\"./render_video.mp4\", device=\"cpu\"):\n",
        "    # TODO: Render and display the environment\n",
        "    images = []  # List to store frames\n",
        "\n",
        "    for episode in range(episodes):\n",
        "        obs = env.reset()\n",
        "        done = False\n",
        "\n",
        "        while not done:\n",
        "            # Render the current state\n",
        "            frame = env.render(mode='rgb_array')\n",
        "            images.append(frame)\n",
        "\n",
        "            # Convert observation to tensor and move to the specified device\n",
        "            obs = torch.FloatTensor(np.array([obs], dtype=np.float32)).to(device)\n",
        "\n",
        "            # Choose the action using the trained network\n",
        "            with torch.no_grad():\n",
        "                action = net(obs).argmax(dim=1).item()\n",
        "\n",
        "            # Take a step in the environment\n",
        "            obs, _, done, _ = env.step(action)\n",
        "\n",
        "    # Save the frames as a video\n",
        "    imageio.mimsave(save_path, images)\n",
        "\n",
        "\n",
        "# Render and save a video before training\n",
        "print(\"### BEFORE TRAINING ###\")\n",
        "render_and_save_video(env, net, device=device,save_path = './before.mp4')\n",
        "\n",
        "# Render and save a video after training\n",
        "print(\"### AFTER TRAINING ###\")\n",
        "render_and_save_video(env, net, device=device,save_path = './after.mp4')\n"
      ]
    },
    {
      "cell_type": "markdown",
      "metadata": {
        "id": "pZsGQY4DQ9Z_"
      },
      "source": [
        "# Question:\n",
        "\n",
        "Exploration (Epsilon-Greedy):\n",
        "\n",
        "Discuss the significance of the exploration strategy, specifically the Epsilon-Greedy approach, in balancing exploration and exploitation during training."
      ]
    },
    {
      "cell_type": "markdown",
      "source": [
        "## Answer\n",
        "The Epsilon-Greedy approach is a strategy used in reinforcement learning to balance exploration and exploitation during training. This method helps the agent learn what to do by mapping situations to actions, maximizing rewards while also exploring new possibilities[1]. The key aspects of the Epsilon-Greedy approach include:\n",
        "\n",
        "- **Exploration**: This involves trying new actions and learning about the environment to improve the agent's understanding of the best actions to take[1].\n",
        "\n",
        "- **Exploitation**: This involves choosing the action with the highest estimated reward based on the agent's current knowledge[1].\n",
        "\n",
        "- **Epsilon-Greedy Action Selection**: This method selects the action with the highest estimated reward most of the time, but with a small probability (epsilon), it chooses a random action independent of the action-value estimates[2]. The value of epsilon can be adjusted during the training process to fine-tune the exploration-exploitation tradeoff[5].\n",
        "\n",
        "The Epsilon-Greedy approach helps the agent strike a balance between exploration and exploitation, allowing it to take advantage of prior knowledge while also exploring new possibilities[2]. This strategy enables the agent to learn more about the environment and improve its action-value estimates, leading to more informed decisions in the future[1]. By using the Epsilon-Greedy approach, the agent can avoid getting stuck in suboptimal states or missing out on better options due to a lack of exploration[2].\n",
        "\n",
        "```\n",
        "Citations:\n",
        "[1] https://www.geeksforgeeks.org/epsilon-greedy-algorithm-in-reinforcement-learning/\n",
        "[2] https://www.baeldung.com/cs/epsilon-greedy-q-learning\n",
        "[3] https://deeplizard.com/learn/video/mo96Nqlo1L8\n",
        "[4] https://towardsdatascience.com/striking-a-balance-between-exploring-and-exploiting-5475d9c1e66e\n",
        "[5] https://serp.ai/epsilon-greedy-exploration/\n",
        "```"
      ],
      "metadata": {
        "id": "SiwMtkMPh8mO"
      }
    }
  ],
  "metadata": {
    "accelerator": "GPU",
    "colab": {
      "provenance": []
    },
    "kernelspec": {
      "display_name": "Python 3 (ipykernel)",
      "language": "python",
      "name": "python3"
    },
    "language_info": {
      "codemirror_mode": {
        "name": "ipython",
        "version": 3
      },
      "file_extension": ".py",
      "mimetype": "text/x-python",
      "name": "python",
      "nbconvert_exporter": "python",
      "pygments_lexer": "ipython3",
      "version": "3.8.10"
    }
  },
  "nbformat": 4,
  "nbformat_minor": 0
}